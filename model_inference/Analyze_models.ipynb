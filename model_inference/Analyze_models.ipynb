{
 "cells": [
  {
   "cell_type": "markdown",
   "metadata": {},
   "source": [
    "# Code with interactive widgets to analyze trained models and plot validation and roc curves\n",
    "\n",
    "March 18, 2020\n"
   ]
  },
  {
   "cell_type": "markdown",
   "metadata": {},
   "source": [
    "## Steps:\n",
    "- For a subset of models, read all data\n",
    "- Store it in a summary dictionary\n",
    "- Read from the dictionary for a specific model\n",
    "- Plot learning curve, roc curves and print summary"
   ]
  },
  {
   "cell_type": "code",
   "execution_count": 1,
   "metadata": {},
   "outputs": [],
   "source": [
    "import numpy as np\n",
    "import matplotlib.pyplot as plt\n",
    "import pandas as pd\n",
    "\n",
    "import subprocess as sp\n",
    "import pickle\n",
    "from ipywidgets import interact, interact_manual,fixed, SelectMultiple\n",
    "import time"
   ]
  },
  {
   "cell_type": "code",
   "execution_count": 2,
   "metadata": {},
   "outputs": [],
   "source": [
    "%matplotlib widget"
   ]
  },
  {
   "cell_type": "code",
   "execution_count": 3,
   "metadata": {},
   "outputs": [],
   "source": [
    "## M-L modules\n",
    "# import tensorflow.keras\n",
    "# from tensorflow.keras import layers, models, optimizers, callbacks  # or tensorflow.keras as keras\n",
    "# import tensorflow as tf\n",
    "\n",
    "from sklearn.utils import shuffle\n",
    "from sklearn.metrics import roc_curve, auc, precision_recall_curve, precision_recall_fscore_support, roc_auc_score\n",
    "from tensorflow.python.keras.models import load_model\n"
   ]
  },
  {
   "cell_type": "markdown",
   "metadata": {},
   "source": [
    "### Some basic definitions for reference\n",
    "tpr= tp/(tp+fn)\n",
    "\n",
    "fpr=fp/(fp+tn)\n",
    "\n",
    "Missed detection rate:  $mdr=(1-tpr) $\n",
    "\n",
    "precision = tp/(tp+fp)\n",
    "\n",
    "recall = tpr"
   ]
  },
  {
   "cell_type": "markdown",
   "metadata": {},
   "source": [
    "## Modules"
   ]
  },
  {
   "cell_type": "code",
   "execution_count": 20,
   "metadata": {},
   "outputs": [],
   "source": [
    "\n",
    "class trained_model:\n",
    "    '''\n",
    "    Class to extract data of trained model\n",
    "    variables: model,history, y_pred (predictions of labels), fpr, tpr, threshold, auc\n",
    "    functions: f_read_stored_model, f_compute_preds\n",
    "    Example objects :  (models numbers) '1', '2', etc.\n",
    "    '''\n",
    "    \n",
    "    def __init__(self,model_name,model_save_dir,results_save_dir):\n",
    "        \n",
    "        ### Initialize variables\n",
    "        self.tpr,self.fpr,self.threshold,self.auc1=[],[],[],None\n",
    "        self.precision,self.recall,self.threshold2,self.fscore,self.auc2=[],[],[],[],None\n",
    "        \n",
    "        ### Read stored model (model structure and history) from files\n",
    "        self.f_read_stored_model(model_name,model_save_dir,results_save_dir)\n",
    "        \n",
    "    def f_read_stored_model(self,model_name,model_save_dir,results_save_dir):\n",
    "        '''\n",
    "        Read model, history and predictions\n",
    "        '''\n",
    "        \n",
    "        fname_model='model_{0}.h5'.format(model_name)\n",
    "        fname_history='history_{0}.pickle'.format(model_name)\n",
    "\n",
    "        # Load model and history\n",
    "        print(model_save_dir+fname_model)\n",
    "        self.model=load_model(model_save_dir+fname_model)\n",
    "        \n",
    "        with open(model_save_dir+fname_history,'rb') as f:\n",
    "            self.history= pickle.load(f)\n",
    "        \n",
    "        # Load predictions\n",
    "        fname_ypred=results_save_dir+'ypred_{0}.test'.format(model_name)\n",
    "        self.y_pred=np.loadtxt(fname_ypred)\n",
    "\n",
    "        # Load true labels\n",
    "        fname_ytest=results_save_dir+'ytest_{0}.test'.format(model_name)\n",
    "        self.y_test=np.loadtxt(fname_ytest)\n",
    "    \n",
    "    \n",
    "    def f_compute_preds(self):\n",
    "        '''\n",
    "        Module to use model and compute quantities\n",
    "        \n",
    "        TPR= tp/(tp+fn)\n",
    "        FPR=fp/(fp+tn)\n",
    "        precision=tp/(tp+fp)\n",
    "        recall=tp/(tp+fn) = TPR=sensitivty\n",
    "        Missed detection rate = mdr=fn/(tp+fn)\n",
    "        mdr=fn=(1-tpr)\n",
    "        \n",
    "        '''\n",
    "        \n",
    "        y_pred=self.y_pred\n",
    "        test_y=self.y_test\n",
    "        \n",
    "        ## Calculate tpr,fpr\n",
    "        self.fpr,self.tpr,self.threshold=roc_curve(test_y,y_pred,pos_label=1)\n",
    "        # calculate precision-recall curve\n",
    "        self.precision, self.recall, self.thresholds2 = precision_recall_curve(test_y, y_pred,pos_label=0)\n",
    "#         self.precision, self.recall, self.fscore, support = precision_recall_fscore_support(test_y, y_pred, sample_weight=test_wts)\n",
    "        \n",
    "        # AUC1\n",
    "        self.auc1= auc(self.fpr, self.tpr)\n",
    "        # AUC2\n",
    "        self.auc2= auc(self.recall, self.precision)\n",
    "        "
   ]
  },
  {
   "cell_type": "code",
   "execution_count": 21,
   "metadata": {},
   "outputs": [],
   "source": [
    "\n",
    "def f_plot_learning(history):\n",
    "    '''Plot learning curves : Accuracy and Validation'''\n",
    "    fig=plt.figure()\n",
    "    # Plot training & validation accuracy values\n",
    "    fig.add_subplot(2,1,1)\n",
    "    xlim=len(history['acc'])\n",
    "    \n",
    "    plt.plot(history['acc'],label='Train',marker='o')\n",
    "    plt.plot(history['val_acc'],label='Validation',marker='*')\n",
    "#     plt.title('Model accuracy')\n",
    "    plt.ylabel('Accuracy')\n",
    "    plt.xticks(np.arange(0,xlim,5))\n",
    "    \n",
    "    # Plot loss values\n",
    "    fig.add_subplot(2,1,2)\n",
    "    plt.plot(history['loss'],label='Train',marker='o')\n",
    "    plt.plot(history['val_loss'],label='Validation',marker='*')\n",
    "#     plt.title('Model loss')\n",
    "    plt.ylabel('Loss')\n",
    "    plt.xlabel('Epoch')\n",
    "    plt.xticks(np.arange(0,xlim,5))\n",
    "\n",
    "    plt.legend(loc='best')\n",
    "\n",
    "\n",
    "def f_plot_roc_1(x,y):\n",
    "    '''\n",
    "    Module for roc plot\n",
    "    Usually, x=fpr, y=tpr\n",
    "    '''\n",
    "#     plt.figure()\n",
    "#     plt.scatter(x,y,s=5)\n",
    "    plt.semilogx(x, y,linestyle='',markersize=2,marker='*')\n",
    "    ##Zooms\n",
    "#     plt.xlim([10**-6,1.0])\n",
    "#     plt.ylim([0,1.0])\n",
    "#   ### y=x line for comparison\n",
    "#     x=np.linspace(0,1,num=500)\n",
    "#     plt.plot(x,x)\n",
    "#     plt.xscale('log')\n",
    "\n",
    "\n",
    "def f_plot_roc_2(x,y):\n",
    "    '''\n",
    "    Module for precision recall curve\n",
    "    '''\n",
    "#     plt.figure()\n",
    "    plt.plot(x,y,linestyle='',markersize=2,marker='*')\n",
    "    ##Zooms\n",
    "    plt.xlim([0,0.1])\n",
    "    plt.ylim([0,0.05])\n"
   ]
  },
  {
   "cell_type": "markdown",
   "metadata": {},
   "source": [
    "## Read stored model"
   ]
  },
  {
   "cell_type": "code",
   "execution_count": 26,
   "metadata": {},
   "outputs": [],
   "source": [
    "## Since reading data takes a bit of time, we first read a subset of models, analyze them and store essential data for plots\n",
    "\n",
    "def f_read_all_data(model_save_dir,results_save_dir,model_name_list):\n",
    "    '''\n",
    "    Read stored data, plot learning and roc curves, print model summary\n",
    "    '''\n",
    "    dict_summary=dict.fromkeys(model_name_list,None)\n",
    "    \n",
    "    for model_name in model_name_list:\n",
    "        obj=trained_model(model_name,model_save_dir,results_save_dir)\n",
    "        obj.f_compute_preds()\n",
    "        \n",
    "        dict_summary[model_name]=obj\n",
    "        \n",
    "    return dict_summary\n",
    "\n",
    "\n",
    "def f_analyze_model(model_name,dict_summary,learning_curve=True,plot_roc=True,plot_pred=True,summary=True):\n",
    "    '''\n",
    "    Analyze model\n",
    "    '''\n",
    "    \n",
    "    ### Pick up data stored in summary dictionary\n",
    "    obj=dict_summary[model_name]\n",
    "    \n",
    "    y_pred,history=obj.y_pred,obj.history\n",
    "    test_y=obj.y_test\n",
    "    \n",
    "    ####################################\n",
    "    # Plot tested model\n",
    "    ### Get data for prediction comparison curves\n",
    "    bkg_loc=np.where(test_y==0.0)[0]\n",
    "    sig_loc=np.where(test_y==1.0)[0]\n",
    "    pred_at_sig=y_pred[sig_loc]\n",
    "    pred_at_bkg=y_pred[bkg_loc]\n",
    "        \n",
    "#     print(bkg_loc.shape,sig_loc.shape,pred_at_sig.shape,pred_at_bkg.shape)\n",
    "    \n",
    "    if learning_curve: \n",
    "        f_plot_learning(history)\n",
    "#         plt.savefig('learning_curve.pdf')\n",
    "        \n",
    "    ## Plot roc curve\n",
    "    if plot_roc:\n",
    "        fig=plt.figure(figsize=(10,5))\n",
    "        \n",
    "        ### Tpr vs fpr\n",
    "        fig.add_subplot(1,3,1)\n",
    "        f_plot_roc_1(x=obj.fpr,y=obj.tpr)\n",
    "        plt.title('Roc curve')\n",
    "        plt.xlabel('fpr')\n",
    "        plt.ylabel('tpr')\n",
    "        \n",
    "        ### Precision vs recall\n",
    "        fig.add_subplot(1,3,2)\n",
    "        f_plot_roc_1(x=obj.recall,y=obj.precision)\n",
    "        plt.title('Precision-recall curve')\n",
    "        plt.xlabel('recall')\n",
    "        plt.ylabel('precision')\n",
    "        \n",
    "        ### Fpr vs mdr \n",
    "        #### mdr : missed detection rate. mdr=fn/(tp+fn)=1-tpr\n",
    "        fig.add_subplot(1,3,3)\n",
    "#         f_plot_roc_2(x=1-obj.tpr,y=obj.fpr)\n",
    "        f_plot_roc_2(x=obj.fpr,y=1-obj.tpr) ## fix for inverted labels signal is 0 instead of 1\n",
    "\n",
    "        ### Reference points in mdr plot in paper\n",
    "        plt.plot(0.03,0.038,marker='s',markersize=8,color='k')\n",
    "        plt.plot(0.04,0.024,marker='s',markersize=8,color='k')\n",
    "        plt.plot(0.05,0.016,marker='s',markersize=8,color='k')       \n",
    "        plt.xlabel('mdr')\n",
    "        plt.ylabel('fpr')\n",
    "        \n",
    "        plt.tight_layout()\n",
    "\n",
    "        print('Auc 1:',obj.auc1)\n",
    "        print('Auc 2:',obj.auc2)\n",
    "\n",
    "    if plot_pred:\n",
    "        \n",
    "        ### Plot prediction histograms \n",
    "        \n",
    "        fig=plt.figure()\n",
    "        fig.add_subplot(1,2,1)\n",
    "        n,bins,patches=plt.hist(y_pred, density=None, bins=50,color='brown')\n",
    "        plt.xlim(0,1)\n",
    "        plt.title('Prediction histogram')\n",
    "        \n",
    "        fig.add_subplot(1,2,2)\n",
    "#         n,bins,patches=plt.hist(pred_at_sig, density=None, bins=50,label='signal')\n",
    "#         n,bins,patches=plt.hist(pred_at_bkg, density=None, bins=50,label='background')\n",
    "        plt.hist([pred_at_sig,pred_at_bkg],bins=20,label=['sig','background'])\n",
    "        \n",
    "        plt.legend(loc='best')\n",
    "        plt.title('Prediction distributions')\n",
    "        \n",
    "        plt.tight_layout()\n",
    "#         plt.savefig('prediction_plots.pdf')\n",
    "        \n",
    "        ### Plot curves for tpr,fpr etc \n",
    "        fig=plt.figure(figsize=(6,3))\n",
    "        \n",
    "        fig.add_subplot(1,2,1)\n",
    "        plt.plot(obj.fpr,color='r',label='fpr')\n",
    "        plt.plot(obj.tpr,color='b',label='tpr')\n",
    "        plt.plot((1-obj.tpr),color='y',label='mdr')  ### mdr=1-tpr\n",
    "        plt.plot(obj.threshold[1:],label='threshold')\n",
    "        plt.legend(loc='best')\n",
    "        plt.title('FPR, TPR and threshold')\n",
    "\n",
    "        fig.add_subplot(1,2,2)\n",
    "        plt.plot(obj.precision,label='precision')\n",
    "        plt.plot(obj.recall,label='recall')\n",
    "        plt.plot(obj.threshold2,label='threshold2')\n",
    "        plt.legend(loc='best')\n",
    "        plt.title('Precision, recall and threshold')\n",
    "\n",
    "    ## Model summary\n",
    "    if summary: \n",
    "        print(np.max(obj.tpr),np.max(obj.fpr))\n",
    "        print(obj.model.summary())\n",
    "        pass\n",
    "#         model.summary()\n",
    "\n",
    "\n",
    "def f_compare_rocs(model_name,dict_summary):\n",
    "    '''\n",
    "    Compare roc curves for different models\n",
    "    Used inside f_analyze_model\n",
    "    '''\n",
    "    fig,(ax1,ax2,ax3)=plt.subplots(1,3,figsize=(8,8))\n",
    "    \n",
    "    ax1.set_title('Roc curve')\n",
    "    ax1.set_xlabel('fpr')\n",
    "    ax1.set_ylabel('tpr')\n",
    "    ax2.set_title('Precision-recall curve')\n",
    "    ax2.set_xlabel('recall')\n",
    "    ax2.set_ylabel('precision')\n",
    "    ax3.set_title('FPR-MDR curve')\n",
    "    ax3.set_xlabel('mdr')\n",
    "    ax3.set_ylabel('fpr')\n",
    "    \n",
    "    for model_num in model_name:\n",
    "        ### Pick up data stored in summary dictionary\n",
    "        obj=dict_summary[model_num]    \n",
    "        \n",
    "        ### Tpr vs fpr\n",
    "        x,y=obj.fpr,obj.tpr\n",
    "        ax1.semilogx(x, y,linestyle='',label='model: '+model_num,markersize=2,marker='*')\n",
    "        ### Precision vs recall\n",
    "        x,y=obj.recall,obj.precision\n",
    "        ax2.semilogy(x, y,linestyle='',label='model: '+model_num,markersize=2,marker='*')\n",
    "        ### Fpr vs mdr \n",
    "        #### mdr : missed detection rate. mdr=fn/(tp+fn)=1-tpr\n",
    "#         x,y=1-obj.tpr,obj.fpr\n",
    "        x,y=obj.fpr,1-obj.tpr  ### fix for flipped labels\n",
    "\n",
    "        ax3.plot(x, y,linestyle='',label='model: '+model_num,markersize=2,marker='*')\n",
    "\n",
    "        print(\"Auc scores: \",model_num,obj.auc1,obj.auc2)\n",
    "    \n",
    "    ### Reference points in mdr plot in paper\n",
    "    ax3.plot(0.03,0.038,marker='s',markersize=8,color='k')\n",
    "    ax3.plot(0.04,0.024,marker='s',markersize=8,color='k')\n",
    "    ax3.plot(0.05,0.016,marker='s',markersize=8,color='k')\n",
    "\n",
    "#     ax1.set_xlim(1e-6,2)\n",
    "    ax2.set_xlim(0.95,1.0)    \n",
    "    ax3.set_xlim(0,0.1)\n",
    "    ax3.set_ylim(0,0.05)\n",
    "    \n",
    "    ax1.legend(loc='best')    \n",
    "    ax2.legend(loc='best')    \n",
    "    ax3.legend(loc='best')\n",
    "    \n",
    "#     fig.savefig('comparison_roc.png')"
   ]
  },
  {
   "cell_type": "markdown",
   "metadata": {},
   "source": [
    "### First store data for a subset of models"
   ]
  },
  {
   "cell_type": "code",
   "execution_count": 27,
   "metadata": {},
   "outputs": [],
   "source": [
    "main_dir='/global/cfs/cdirs/dasrepo/vpa/supernova_cnn/data/results_data/results/final_summary_data_folder/'\n",
    "model_save_dir=main_dir+'saved_models/'\n",
    "results_save_dir=main_dir+'results_inference/'"
   ]
  },
  {
   "cell_type": "code",
   "execution_count": 28,
   "metadata": {},
   "outputs": [
    {
     "name": "stdout",
     "output_type": "stream",
     "text": [
      "/global/cfs/cdirs/dasrepo/vpa/supernova_cnn/data/results_data/results/final_summary_data_folder/saved_models/model_1.h5\n"
     ]
    }
   ],
   "source": [
    "lst=[1]\n",
    "model_sublist=[str(i) for i in lst]\n",
    "dict_summary=f_read_all_data(model_save_dir,results_save_dir,model_sublist)"
   ]
  },
  {
   "cell_type": "code",
   "execution_count": 29,
   "metadata": {},
   "outputs": [
    {
     "name": "stdout",
     "output_type": "stream",
     "text": [
      "dict_keys(['1'])\n"
     ]
    }
   ],
   "source": [
    "print(dict_summary.keys())\n",
    "# print(dict_summary)"
   ]
  },
  {
   "cell_type": "markdown",
   "metadata": {},
   "source": [
    "### Generate plots and summary \n",
    "Read from dictionary **dict_summary**"
   ]
  },
  {
   "cell_type": "code",
   "execution_count": 31,
   "metadata": {},
   "outputs": [
    {
     "data": {
      "application/vnd.jupyter.widget-view+json": {
       "model_id": "5e45c9fbaf1b42819b2acb28222895fd",
       "version_major": 2,
       "version_minor": 0
      },
      "text/plain": [
       "interactive(children=(Dropdown(description='model_name', options=('1',), value='1'), Checkbox(value=True, desc…"
      ]
     },
     "metadata": {},
     "output_type": "display_data"
    },
    {
     "data": {
      "text/plain": [
       "<function __main__.f_analyze_model(model_name, dict_summary, learning_curve=True, plot_roc=True, plot_pred=True, summary=True)>"
      ]
     },
     "execution_count": 31,
     "metadata": {},
     "output_type": "execute_result"
    }
   ],
   "source": [
    "interact_manual(f_analyze_model,dict_summary=fixed(dict_summary),model_name=model_sublist)"
   ]
  },
  {
   "cell_type": "markdown",
   "metadata": {},
   "source": [
    "### Compare roc curves"
   ]
  },
  {
   "cell_type": "code",
   "execution_count": 33,
   "metadata": {},
   "outputs": [],
   "source": [
    "# interact_manual(f_compare_rocs,model_name=SelectMultiple(options=model_sublist),dict_summary=fixed(dict_summary))"
   ]
  },
  {
   "cell_type": "code",
   "execution_count": null,
   "metadata": {},
   "outputs": [],
   "source": []
  }
 ],
 "metadata": {
  "kernelspec": {
   "display_name": "v3",
   "language": "python",
   "name": "v-jpt-3"
  },
  "language_info": {
   "codemirror_mode": {
    "name": "ipython",
    "version": 3
   },
   "file_extension": ".py",
   "mimetype": "text/x-python",
   "name": "python",
   "nbconvert_exporter": "python",
   "pygments_lexer": "ipython3",
   "version": "3.8.6"
  },
  "toc": {
   "base_numbering": 1,
   "nav_menu": {},
   "number_sections": true,
   "sideBar": true,
   "skip_h1_title": false,
   "title_cell": "Table of Contents",
   "title_sidebar": "Contents",
   "toc_cell": false,
   "toc_position": {},
   "toc_section_display": true,
   "toc_window_display": false
  }
 },
 "nbformat": 4,
 "nbformat_minor": 4
}
