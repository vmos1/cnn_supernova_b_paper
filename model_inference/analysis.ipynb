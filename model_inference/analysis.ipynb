{
 "cells": [
  {
   "cell_type": "markdown",
   "metadata": {},
   "source": [
    "# Code to identify mis-classified points and explore their features\n",
    "\n",
    "July 21, 2020\n"
   ]
  },
  {
   "cell_type": "code",
   "execution_count": 2,
   "metadata": {},
   "outputs": [],
   "source": [
    "import numpy as np\n",
    "import matplotlib.pyplot as plt\n",
    "import seaborn as sns\n",
    "\n",
    "import pandas as pd\n",
    "\n",
    "import subprocess as sp\n",
    "import pickle\n",
    "import ipywidgets as widgets\n",
    "import time\n"
   ]
  },
  {
   "cell_type": "code",
   "execution_count": 2,
   "metadata": {},
   "outputs": [],
   "source": [
    "from sklearn.metrics import roc_curve"
   ]
  },
  {
   "cell_type": "code",
   "execution_count": 3,
   "metadata": {},
   "outputs": [],
   "source": [
    "%matplotlib widget"
   ]
  },
  {
   "attachments": {
    "3608f0cd-0326-41c5-a6d0-09f5e59b0a9c.png": {
     "image/png": "[encoded data removed]"
    }
   },
   "cell_type": "markdown",
   "metadata": {},
   "source": [
    "![image.png](attachment:3608f0cd-0326-41c5-a6d0-09f5e59b0a9c.png)"
   ]
  },
  {
   "cell_type": "markdown",
   "metadata": {},
   "source": [
    "## Read test data and predictions"
   ]
  },
  {
   "cell_type": "code",
   "execution_count": 4,
   "metadata": {},
   "outputs": [],
   "source": [
    "main_dir='/global/cfs/cdirs/dasrepo/vpa/supernova_cnn/data/results_data/results/final_summary_data_folder/'"
   ]
  },
  {
   "cell_type": "code",
   "execution_count": 5,
   "metadata": {},
   "outputs": [],
   "source": [
    "f1=main_dir+'sample_test_data/temp_bigger_data/input_labels_y.txt'\n",
    "f2=main_dir+'results_inference/y_large_pred.txt'"
   ]
  },
  {
   "cell_type": "code",
   "execution_count": 6,
   "metadata": {},
   "outputs": [
    {
     "name": "stdout",
     "output_type": "stream",
     "text": [
      "(5000, 2)\n"
     ]
    },
    {
     "data": {
      "text/html": [
       "<div>\n",
       "<style scoped>\n",
       "    .dataframe tbody tr th:only-of-type {\n",
       "        vertical-align: middle;\n",
       "    }\n",
       "\n",
       "    .dataframe tbody tr th {\n",
       "        vertical-align: top;\n",
       "    }\n",
       "\n",
       "    .dataframe thead th {\n",
       "        text-align: right;\n",
       "    }\n",
       "</style>\n",
       "<table border=\"1\" class=\"dataframe\">\n",
       "  <thead>\n",
       "    <tr style=\"text-align: right;\">\n",
       "      <th></th>\n",
       "      <th>label</th>\n",
       "      <th>pred</th>\n",
       "    </tr>\n",
       "  </thead>\n",
       "  <tbody>\n",
       "    <tr>\n",
       "      <th>0</th>\n",
       "      <td>1</td>\n",
       "      <td>0.999773</td>\n",
       "    </tr>\n",
       "    <tr>\n",
       "      <th>1</th>\n",
       "      <td>0</td>\n",
       "      <td>0.000031</td>\n",
       "    </tr>\n",
       "    <tr>\n",
       "      <th>2</th>\n",
       "      <td>1</td>\n",
       "      <td>0.999562</td>\n",
       "    </tr>\n",
       "    <tr>\n",
       "      <th>3</th>\n",
       "      <td>1</td>\n",
       "      <td>0.995830</td>\n",
       "    </tr>\n",
       "    <tr>\n",
       "      <th>4</th>\n",
       "      <td>1</td>\n",
       "      <td>0.999947</td>\n",
       "    </tr>\n",
       "  </tbody>\n",
       "</table>\n",
       "</div>"
      ],
      "text/plain": [
       "   label      pred\n",
       "0      1  0.999773\n",
       "1      0  0.000031\n",
       "2      1  0.999562\n",
       "3      1  0.995830\n",
       "4      1  0.999947"
      ]
     },
     "execution_count": 6,
     "metadata": {},
     "output_type": "execute_result"
    }
   ],
   "source": [
    "df=pd.DataFrame()\n",
    "df['label']=np.loadtxt(f1,dtype=np.int16)\n",
    "df['pred']=np.loadtxt(f2,dtype=np.float32)\n",
    "\n",
    "print(df.shape)\n",
    "df.head()\n"
   ]
  },
  {
   "cell_type": "markdown",
   "metadata": {},
   "source": [
    "## Histograms"
   ]
  },
  {
   "cell_type": "code",
   "execution_count": 7,
   "metadata": {},
   "outputs": [
    {
     "data": {
      "application/vnd.jupyter.widget-view+json": {
       "model_id": "d1dd277ee8714544ac80fac41823b829",
       "version_major": 2,
       "version_minor": 0
      },
      "text/plain": [
       "Canvas(toolbar=Toolbar(toolitems=[('Home', 'Reset original view', 'home', 'home'), ('Back', 'Back to previous …"
      ]
     },
     "metadata": {},
     "output_type": "display_data"
    },
    {
     "data": {
      "text/plain": [
       "array([<AxesSubplot:ylabel='Frequency'>, <AxesSubplot:ylabel='Frequency'>],\n",
       "      dtype=object)"
      ]
     },
     "execution_count": 7,
     "metadata": {},
     "output_type": "execute_result"
    }
   ],
   "source": [
    "df.plot(kind='hist',y=['label','pred'],subplots=True,grid=True,bins=12)"
   ]
  },
  {
   "cell_type": "code",
   "execution_count": 8,
   "metadata": {},
   "outputs": [
    {
     "data": {
      "application/vnd.jupyter.widget-view+json": {
       "model_id": "9f5bd65cfc0f4b8c98e8f48d9d880eaf",
       "version_major": 2,
       "version_minor": 0
      },
      "text/plain": [
       "Canvas(toolbar=Toolbar(toolitems=[('Home', 'Reset original view', 'home', 'home'), ('Back', 'Back to previous …"
      ]
     },
     "metadata": {},
     "output_type": "display_data"
    },
    {
     "data": {
      "text/plain": [
       "<matplotlib.legend.Legend at 0x2aaadac6cc40>"
      ]
     },
     "execution_count": 8,
     "metadata": {},
     "output_type": "execute_result"
    }
   ],
   "source": [
    "### Prediction histograms\n",
    "#### Comparing predction\n",
    "\n",
    "plt.figure()\n",
    "column='pred'\n",
    "# Predictions at points where label is 1\n",
    "sig_preds=df[df.label==1][column].values\n",
    "# Predictions at points where label is 0\n",
    "bkg_preds=df[df.label==0][column].values\n",
    "plt.hist([sig_preds,bkg_preds],bins=20,alpha=0.5,label=[column+':Artifact=1',column+':non-artifacts=0'])\n",
    "plt.legend()"
   ]
  },
  {
   "cell_type": "markdown",
   "metadata": {},
   "source": [
    "## Plot roc curve"
   ]
  },
  {
   "cell_type": "markdown",
   "metadata": {},
   "source": [
    "####The ROC curve flip argument\n",
    "\n",
    "Since True=1 in keras, but Non-Artifact is defined as 0 in the paper, \n",
    "Tp <-> Tn and Fn <-> Fp\n",
    "\n",
    "Actual roc curve is x=mdr, y=fpr\n",
    "\n",
    "\n",
    "mdr=Fn/(Tp+Fn) -> Fp/(Tn+Fp) = fpr \\\n",
    "\n",
    "fpr=Fp/(Tn+Fp) -> Fn/(Tp+Fn) = mdr = fnr = 1-tpr\n",
    "\n",
    "\n",
    "Hence we get an mdr <-> fpr flip\n"
   ]
  },
  {
   "cell_type": "code",
   "execution_count": 112,
   "metadata": {},
   "outputs": [],
   "source": [
    "def f_roc(df,col,label,fig_type='mdr'):\n",
    "    '''\n",
    "    Function to plot the roc curve\n",
    "    '''\n",
    "    fpr,tpr,threshold=roc_curve(df.label,df[col],pos_label=None)\n",
    "    \n",
    "    if fig_type=='mdr':\n",
    "#         x,y=1-tpr,fpr \n",
    "        x,y=fpr,(1-tpr)     # The roc curve flip: mdr-> fpr; fpr-> (1-tpr)\n",
    "        plt.plot(x, y,linestyle='',label=label,markersize=4,marker='*')\n",
    "        # ### Reference points in mdr plot in paper\n",
    "        \n",
    "    \n",
    "        rf_2015_lst=[(0.03,0.038),(0.04,0.024),(0.05,0.016)]\n",
    "        for count,a in enumerate(rf_2015_lst):\n",
    "            if count==0:\n",
    "                plt.plot(a[0],a[1],marker='s',markersize=8,color='k',label='RF_2015')\n",
    "            else: \n",
    "                plt.plot(a[0],a[1],marker='s',markersize=8,color='k')\n",
    "\n",
    "        plt.xlabel('MDR')\n",
    "        plt.ylabel('FPR')\n",
    "        plt.xlim(0,0.1)\n",
    "        plt.ylim(0,0.05)\n",
    "        \n",
    "    if fig_type=='tpr':\n",
    "        x,y=(1-tpr),(1-fpr)     # The roc curve flip: fpr-> (1-tpr); tpr-> (1-fpr)\n",
    "        plt.plot(x, y,linestyle='',label=label,markersize=4,marker='*')\n",
    "        plt.xlabel('FPR')\n",
    "        plt.ylabel('TPR')\n",
    "    \n",
    "    plt.legend()\n",
    "    "
   ]
  },
  {
   "cell_type": "code",
   "execution_count": 120,
   "metadata": {},
   "outputs": [
    {
     "data": {
      "application/vnd.jupyter.widget-view+json": {
       "model_id": "65a4fe06d3c14e1693f07ef0e79b24bd",
       "version_major": 2,
       "version_minor": 0
      },
      "text/plain": [
       "Canvas(toolbar=Toolbar(toolitems=[('Home', 'Reset original view', 'home', 'home'), ('Back', 'Back to previous …"
      ]
     },
     "metadata": {},
     "output_type": "display_data"
    },
    {
     "data": {
      "text/plain": [
       "Text(0.5, 1.0, 'MDR roc curve')"
      ]
     },
     "execution_count": 120,
     "metadata": {},
     "output_type": "execute_result"
    }
   ],
   "source": [
    "plt.figure()\n",
    "f_roc(df,'pred','pred',fig_type='mdr')\n",
    "plt.title('MDR roc curve')"
   ]
  },
  {
   "cell_type": "code",
   "execution_count": 121,
   "metadata": {},
   "outputs": [
    {
     "data": {
      "application/vnd.jupyter.widget-view+json": {
       "model_id": "79d81e996a4e4f6b89357c51fadab14c",
       "version_major": 2,
       "version_minor": 0
      },
      "text/plain": [
       "Canvas(toolbar=Toolbar(toolitems=[('Home', 'Reset original view', 'home', 'home'), ('Back', 'Back to previous …"
      ]
     },
     "metadata": {},
     "output_type": "display_data"
    },
    {
     "data": {
      "text/plain": [
       "Text(0.5, 1.0, 'TPR roc curve')"
      ]
     },
     "execution_count": 121,
     "metadata": {},
     "output_type": "execute_result"
    }
   ],
   "source": [
    "\n",
    "plt.figure()\n",
    "f_roc(df,'pred','pred',fig_type='tpr')\n",
    "# plt.xscale('log')\n",
    "plt.xlim(0,1)\n",
    "plt.title('TPR roc curve')"
   ]
  },
  {
   "cell_type": "markdown",
   "metadata": {},
   "source": [
    "### Threshold prediction"
   ]
  },
  {
   "cell_type": "code",
   "execution_count": 132,
   "metadata": {},
   "outputs": [],
   "source": [
    "fpr,tpr,threshold=roc_curve(df.label,df['pred'],pos_label=None)\n",
    "\n",
    "cols=['threshold','fpr','tpr','mdr']\n",
    "df_roc=pd.DataFrame(columns=cols)\n",
    "# for i,j in zip(['threshold','fpr','tpr','mdr'],[threshold,fpr,tpr,1-tpr]):  ### the method for normal signal-background\n",
    "for i,j in zip(['threshold','fpr','tpr','mdr'],[threshold,1-tpr,1-fpr,fpr]): # the method for our case: Artifact is 0\n",
    "    df_roc[i]=j\n"
   ]
  },
  {
   "cell_type": "code",
   "execution_count": 133,
   "metadata": {},
   "outputs": [
    {
     "data": {
      "text/html": [
       "<div>\n",
       "<style scoped>\n",
       "    .dataframe tbody tr th:only-of-type {\n",
       "        vertical-align: middle;\n",
       "    }\n",
       "\n",
       "    .dataframe tbody tr th {\n",
       "        vertical-align: top;\n",
       "    }\n",
       "\n",
       "    .dataframe thead th {\n",
       "        text-align: right;\n",
       "    }\n",
       "</style>\n",
       "<table border=\"1\" class=\"dataframe\">\n",
       "  <thead>\n",
       "    <tr style=\"text-align: right;\">\n",
       "      <th></th>\n",
       "      <th>threshold</th>\n",
       "      <th>fpr</th>\n",
       "      <th>tpr</th>\n",
       "      <th>mdr</th>\n",
       "    </tr>\n",
       "  </thead>\n",
       "  <tbody>\n",
       "    <tr>\n",
       "      <th>0</th>\n",
       "      <td>2.000000e+00</td>\n",
       "      <td>1.000000</td>\n",
       "      <td>1.000000</td>\n",
       "      <td>0.000000</td>\n",
       "    </tr>\n",
       "    <tr>\n",
       "      <th>1</th>\n",
       "      <td>1.000000e+00</td>\n",
       "      <td>0.997159</td>\n",
       "      <td>1.000000</td>\n",
       "      <td>0.000000</td>\n",
       "    </tr>\n",
       "    <tr>\n",
       "      <th>2</th>\n",
       "      <td>9.999999e-01</td>\n",
       "      <td>0.994318</td>\n",
       "      <td>1.000000</td>\n",
       "      <td>0.000000</td>\n",
       "    </tr>\n",
       "    <tr>\n",
       "      <th>3</th>\n",
       "      <td>9.999999e-01</td>\n",
       "      <td>0.990260</td>\n",
       "      <td>1.000000</td>\n",
       "      <td>0.000000</td>\n",
       "    </tr>\n",
       "    <tr>\n",
       "      <th>4</th>\n",
       "      <td>9.999998e-01</td>\n",
       "      <td>0.987825</td>\n",
       "      <td>1.000000</td>\n",
       "      <td>0.000000</td>\n",
       "    </tr>\n",
       "    <tr>\n",
       "      <th>...</th>\n",
       "      <td>...</td>\n",
       "      <td>...</td>\n",
       "      <td>...</td>\n",
       "      <td>...</td>\n",
       "    </tr>\n",
       "    <tr>\n",
       "      <th>491</th>\n",
       "      <td>7.033348e-06</td>\n",
       "      <td>0.000000</td>\n",
       "      <td>0.013407</td>\n",
       "      <td>0.986593</td>\n",
       "    </tr>\n",
       "    <tr>\n",
       "      <th>492</th>\n",
       "      <td>6.973743e-06</td>\n",
       "      <td>0.000000</td>\n",
       "      <td>0.012618</td>\n",
       "      <td>0.987382</td>\n",
       "    </tr>\n",
       "    <tr>\n",
       "      <th>493</th>\n",
       "      <td>5.960464e-06</td>\n",
       "      <td>0.000000</td>\n",
       "      <td>0.009464</td>\n",
       "      <td>0.990536</td>\n",
       "    </tr>\n",
       "    <tr>\n",
       "      <th>494</th>\n",
       "      <td>5.811453e-06</td>\n",
       "      <td>0.000000</td>\n",
       "      <td>0.008675</td>\n",
       "      <td>0.991325</td>\n",
       "    </tr>\n",
       "    <tr>\n",
       "      <th>495</th>\n",
       "      <td>2.086163e-07</td>\n",
       "      <td>0.000000</td>\n",
       "      <td>0.000000</td>\n",
       "      <td>1.000000</td>\n",
       "    </tr>\n",
       "  </tbody>\n",
       "</table>\n",
       "<p>496 rows × 4 columns</p>\n",
       "</div>"
      ],
      "text/plain": [
       "        threshold       fpr       tpr       mdr\n",
       "0    2.000000e+00  1.000000  1.000000  0.000000\n",
       "1    1.000000e+00  0.997159  1.000000  0.000000\n",
       "2    9.999999e-01  0.994318  1.000000  0.000000\n",
       "3    9.999999e-01  0.990260  1.000000  0.000000\n",
       "4    9.999998e-01  0.987825  1.000000  0.000000\n",
       "..            ...       ...       ...       ...\n",
       "491  7.033348e-06  0.000000  0.013407  0.986593\n",
       "492  6.973743e-06  0.000000  0.012618  0.987382\n",
       "493  5.960464e-06  0.000000  0.009464  0.990536\n",
       "494  5.811453e-06  0.000000  0.008675  0.991325\n",
       "495  2.086163e-07  0.000000  0.000000  1.000000\n",
       "\n",
       "[496 rows x 4 columns]"
      ]
     },
     "execution_count": 133,
     "metadata": {},
     "output_type": "execute_result"
    }
   ],
   "source": [
    "df_roc"
   ]
  },
  {
   "cell_type": "code",
   "execution_count": 134,
   "metadata": {},
   "outputs": [
    {
     "data": {
      "application/vnd.jupyter.widget-view+json": {
       "model_id": "f82e10ecde3b439cafd3cdb56c96a646",
       "version_major": 2,
       "version_minor": 0
      },
      "text/plain": [
       "Canvas(toolbar=Toolbar(toolitems=[('Home', 'Reset original view', 'home', 'home'), ('Back', 'Back to previous …"
      ]
     },
     "metadata": {},
     "output_type": "display_data"
    },
    {
     "data": {
      "text/plain": [
       "<AxesSubplot:>"
      ]
     },
     "execution_count": 134,
     "metadata": {},
     "output_type": "execute_result"
    }
   ],
   "source": [
    "df_roc[1:].plot(kind='line',y=['threshold','mdr','fpr','tpr'])"
   ]
  },
  {
   "cell_type": "code",
   "execution_count": 126,
   "metadata": {},
   "outputs": [
    {
     "data": {
      "application/vnd.jupyter.widget-view+json": {
       "model_id": "75d47937a30b45c4a78bdda952e902d6",
       "version_major": 2,
       "version_minor": 0
      },
      "text/plain": [
       "Canvas(toolbar=Toolbar(toolitems=[('Home', 'Reset original view', 'home', 'home'), ('Back', 'Back to previous …"
      ]
     },
     "metadata": {},
     "output_type": "display_data"
    },
    {
     "data": {
      "text/plain": [
       "<AxesSubplot:xlabel='threshold'>"
      ]
     },
     "execution_count": 126,
     "metadata": {},
     "output_type": "execute_result"
    }
   ],
   "source": [
    "df_roc[1:].plot(kind='line',x='threshold',y=['fpr','tpr','mdr'],style='*')"
   ]
  },
  {
   "cell_type": "code",
   "execution_count": 136,
   "metadata": {},
   "outputs": [
    {
     "name": "stdout",
     "output_type": "stream",
     "text": [
      "Threshold definition: Value > threshold is defined as False (Non-artifact)\n",
      "For fpr < 0.01, threshold < 0.3719293475151062 \n"
     ]
    },
    {
     "data": {
      "text/html": [
       "<div>\n",
       "<style scoped>\n",
       "    .dataframe tbody tr th:only-of-type {\n",
       "        vertical-align: middle;\n",
       "    }\n",
       "\n",
       "    .dataframe tbody tr th {\n",
       "        vertical-align: top;\n",
       "    }\n",
       "\n",
       "    .dataframe thead th {\n",
       "        text-align: right;\n",
       "    }\n",
       "</style>\n",
       "<table border=\"1\" class=\"dataframe\">\n",
       "  <thead>\n",
       "    <tr style=\"text-align: right;\">\n",
       "      <th></th>\n",
       "      <th>threshold</th>\n",
       "      <th>fpr</th>\n",
       "      <th>tpr</th>\n",
       "      <th>mdr</th>\n",
       "    </tr>\n",
       "  </thead>\n",
       "  <tbody>\n",
       "    <tr>\n",
       "      <th>306</th>\n",
       "      <td>3.719293e-01</td>\n",
       "      <td>0.009334</td>\n",
       "      <td>0.987776</td>\n",
       "      <td>0.012224</td>\n",
       "    </tr>\n",
       "    <tr>\n",
       "      <th>307</th>\n",
       "      <td>3.638829e-01</td>\n",
       "      <td>0.009334</td>\n",
       "      <td>0.987382</td>\n",
       "      <td>0.012618</td>\n",
       "    </tr>\n",
       "    <tr>\n",
       "      <th>308</th>\n",
       "      <td>3.612459e-01</td>\n",
       "      <td>0.008929</td>\n",
       "      <td>0.987382</td>\n",
       "      <td>0.012618</td>\n",
       "    </tr>\n",
       "    <tr>\n",
       "      <th>309</th>\n",
       "      <td>3.440493e-01</td>\n",
       "      <td>0.008929</td>\n",
       "      <td>0.986987</td>\n",
       "      <td>0.013013</td>\n",
       "    </tr>\n",
       "    <tr>\n",
       "      <th>310</th>\n",
       "      <td>3.420588e-01</td>\n",
       "      <td>0.008523</td>\n",
       "      <td>0.986987</td>\n",
       "      <td>0.013013</td>\n",
       "    </tr>\n",
       "    <tr>\n",
       "      <th>...</th>\n",
       "      <td>...</td>\n",
       "      <td>...</td>\n",
       "      <td>...</td>\n",
       "      <td>...</td>\n",
       "    </tr>\n",
       "    <tr>\n",
       "      <th>395</th>\n",
       "      <td>7.647276e-05</td>\n",
       "      <td>0.000000</td>\n",
       "      <td>0.234621</td>\n",
       "      <td>0.765379</td>\n",
       "    </tr>\n",
       "    <tr>\n",
       "      <th>396</th>\n",
       "      <td>7.611513e-05</td>\n",
       "      <td>0.000000</td>\n",
       "      <td>0.233833</td>\n",
       "      <td>0.766167</td>\n",
       "    </tr>\n",
       "    <tr>\n",
       "      <th>397</th>\n",
       "      <td>7.528067e-05</td>\n",
       "      <td>0.000000</td>\n",
       "      <td>0.231467</td>\n",
       "      <td>0.768533</td>\n",
       "    </tr>\n",
       "    <tr>\n",
       "      <th>398</th>\n",
       "      <td>7.495284e-05</td>\n",
       "      <td>0.000000</td>\n",
       "      <td>0.230678</td>\n",
       "      <td>0.769322</td>\n",
       "    </tr>\n",
       "    <tr>\n",
       "      <th>495</th>\n",
       "      <td>2.086163e-07</td>\n",
       "      <td>0.000000</td>\n",
       "      <td>0.000000</td>\n",
       "      <td>1.000000</td>\n",
       "    </tr>\n",
       "  </tbody>\n",
       "</table>\n",
       "<p>190 rows × 4 columns</p>\n",
       "</div>"
      ],
      "text/plain": [
       "        threshold       fpr       tpr       mdr\n",
       "306  3.719293e-01  0.009334  0.987776  0.012224\n",
       "307  3.638829e-01  0.009334  0.987382  0.012618\n",
       "308  3.612459e-01  0.008929  0.987382  0.012618\n",
       "309  3.440493e-01  0.008929  0.986987  0.013013\n",
       "310  3.420588e-01  0.008523  0.986987  0.013013\n",
       "..            ...       ...       ...       ...\n",
       "395  7.647276e-05  0.000000  0.234621  0.765379\n",
       "396  7.611513e-05  0.000000  0.233833  0.766167\n",
       "397  7.528067e-05  0.000000  0.231467  0.768533\n",
       "398  7.495284e-05  0.000000  0.230678  0.769322\n",
       "495  2.086163e-07  0.000000  0.000000  1.000000\n",
       "\n",
       "[190 rows x 4 columns]"
      ]
     },
     "metadata": {},
     "output_type": "display_data"
    },
    {
     "name": "stdout",
     "output_type": "stream",
     "text": [
      "For mdr < 0.005, threshold > 0.7914935350418091 \n"
     ]
    },
    {
     "data": {
      "text/html": [
       "<div>\n",
       "<style scoped>\n",
       "    .dataframe tbody tr th:only-of-type {\n",
       "        vertical-align: middle;\n",
       "    }\n",
       "\n",
       "    .dataframe tbody tr th {\n",
       "        vertical-align: top;\n",
       "    }\n",
       "\n",
       "    .dataframe thead th {\n",
       "        text-align: right;\n",
       "    }\n",
       "</style>\n",
       "<table border=\"1\" class=\"dataframe\">\n",
       "  <thead>\n",
       "    <tr style=\"text-align: right;\">\n",
       "      <th></th>\n",
       "      <th>threshold</th>\n",
       "      <th>fpr</th>\n",
       "      <th>tpr</th>\n",
       "      <th>mdr</th>\n",
       "    </tr>\n",
       "  </thead>\n",
       "  <tbody>\n",
       "    <tr>\n",
       "      <th>280</th>\n",
       "      <td>0.791494</td>\n",
       "      <td>0.038961</td>\n",
       "      <td>0.995662</td>\n",
       "      <td>0.004338</td>\n",
       "    </tr>\n",
       "    <tr>\n",
       "      <th>279</th>\n",
       "      <td>0.810335</td>\n",
       "      <td>0.042614</td>\n",
       "      <td>0.995662</td>\n",
       "      <td>0.004338</td>\n",
       "    </tr>\n",
       "    <tr>\n",
       "      <th>278</th>\n",
       "      <td>0.811112</td>\n",
       "      <td>0.042614</td>\n",
       "      <td>0.996057</td>\n",
       "      <td>0.003943</td>\n",
       "    </tr>\n",
       "    <tr>\n",
       "      <th>277</th>\n",
       "      <td>0.811672</td>\n",
       "      <td>0.043425</td>\n",
       "      <td>0.996057</td>\n",
       "      <td>0.003943</td>\n",
       "    </tr>\n",
       "    <tr>\n",
       "      <th>276</th>\n",
       "      <td>0.811826</td>\n",
       "      <td>0.043425</td>\n",
       "      <td>0.996451</td>\n",
       "      <td>0.003549</td>\n",
       "    </tr>\n",
       "    <tr>\n",
       "      <th>...</th>\n",
       "      <td>...</td>\n",
       "      <td>...</td>\n",
       "      <td>...</td>\n",
       "      <td>...</td>\n",
       "    </tr>\n",
       "    <tr>\n",
       "      <th>100</th>\n",
       "      <td>0.999989</td>\n",
       "      <td>0.877841</td>\n",
       "      <td>1.000000</td>\n",
       "      <td>0.000000</td>\n",
       "    </tr>\n",
       "    <tr>\n",
       "      <th>101</th>\n",
       "      <td>0.999989</td>\n",
       "      <td>0.877029</td>\n",
       "      <td>1.000000</td>\n",
       "      <td>0.000000</td>\n",
       "    </tr>\n",
       "    <tr>\n",
       "      <th>102</th>\n",
       "      <td>0.999989</td>\n",
       "      <td>0.876218</td>\n",
       "      <td>1.000000</td>\n",
       "      <td>0.000000</td>\n",
       "    </tr>\n",
       "    <tr>\n",
       "      <th>103</th>\n",
       "      <td>0.999989</td>\n",
       "      <td>0.875000</td>\n",
       "      <td>1.000000</td>\n",
       "      <td>0.000000</td>\n",
       "    </tr>\n",
       "    <tr>\n",
       "      <th>140</th>\n",
       "      <td>0.999976</td>\n",
       "      <td>0.820211</td>\n",
       "      <td>1.000000</td>\n",
       "      <td>0.000000</td>\n",
       "    </tr>\n",
       "  </tbody>\n",
       "</table>\n",
       "<p>281 rows × 4 columns</p>\n",
       "</div>"
      ],
      "text/plain": [
       "     threshold       fpr       tpr       mdr\n",
       "280   0.791494  0.038961  0.995662  0.004338\n",
       "279   0.810335  0.042614  0.995662  0.004338\n",
       "278   0.811112  0.042614  0.996057  0.003943\n",
       "277   0.811672  0.043425  0.996057  0.003943\n",
       "276   0.811826  0.043425  0.996451  0.003549\n",
       "..         ...       ...       ...       ...\n",
       "100   0.999989  0.877841  1.000000  0.000000\n",
       "101   0.999989  0.877029  1.000000  0.000000\n",
       "102   0.999989  0.876218  1.000000  0.000000\n",
       "103   0.999989  0.875000  1.000000  0.000000\n",
       "140   0.999976  0.820211  1.000000  0.000000\n",
       "\n",
       "[281 rows x 4 columns]"
      ]
     },
     "metadata": {},
     "output_type": "display_data"
    },
    {
     "name": "stdout",
     "output_type": "stream",
     "text": [
      "For tpr > 0.99, threshold > 0.463934987783432 \n"
     ]
    },
    {
     "data": {
      "text/html": [
       "<div>\n",
       "<style scoped>\n",
       "    .dataframe tbody tr th:only-of-type {\n",
       "        vertical-align: middle;\n",
       "    }\n",
       "\n",
       "    .dataframe tbody tr th {\n",
       "        vertical-align: top;\n",
       "    }\n",
       "\n",
       "    .dataframe thead th {\n",
       "        text-align: right;\n",
       "    }\n",
       "</style>\n",
       "<table border=\"1\" class=\"dataframe\">\n",
       "  <thead>\n",
       "    <tr style=\"text-align: right;\">\n",
       "      <th></th>\n",
       "      <th>threshold</th>\n",
       "      <th>fpr</th>\n",
       "      <th>tpr</th>\n",
       "      <th>mdr</th>\n",
       "    </tr>\n",
       "  </thead>\n",
       "  <tbody>\n",
       "    <tr>\n",
       "      <th>300</th>\n",
       "      <td>0.463935</td>\n",
       "      <td>0.012987</td>\n",
       "      <td>0.990931</td>\n",
       "      <td>0.009069</td>\n",
       "    </tr>\n",
       "    <tr>\n",
       "      <th>299</th>\n",
       "      <td>0.483647</td>\n",
       "      <td>0.014610</td>\n",
       "      <td>0.990931</td>\n",
       "      <td>0.009069</td>\n",
       "    </tr>\n",
       "    <tr>\n",
       "      <th>297</th>\n",
       "      <td>0.567416</td>\n",
       "      <td>0.017857</td>\n",
       "      <td>0.991719</td>\n",
       "      <td>0.008281</td>\n",
       "    </tr>\n",
       "    <tr>\n",
       "      <th>298</th>\n",
       "      <td>0.510624</td>\n",
       "      <td>0.014610</td>\n",
       "      <td>0.991719</td>\n",
       "      <td>0.008281</td>\n",
       "    </tr>\n",
       "    <tr>\n",
       "      <th>295</th>\n",
       "      <td>0.600669</td>\n",
       "      <td>0.019886</td>\n",
       "      <td>0.992114</td>\n",
       "      <td>0.007886</td>\n",
       "    </tr>\n",
       "    <tr>\n",
       "      <th>...</th>\n",
       "      <td>...</td>\n",
       "      <td>...</td>\n",
       "      <td>...</td>\n",
       "      <td>...</td>\n",
       "    </tr>\n",
       "    <tr>\n",
       "      <th>97</th>\n",
       "      <td>0.999989</td>\n",
       "      <td>0.881088</td>\n",
       "      <td>1.000000</td>\n",
       "      <td>0.000000</td>\n",
       "    </tr>\n",
       "    <tr>\n",
       "      <th>96</th>\n",
       "      <td>0.999989</td>\n",
       "      <td>0.882305</td>\n",
       "      <td>1.000000</td>\n",
       "      <td>0.000000</td>\n",
       "    </tr>\n",
       "    <tr>\n",
       "      <th>95</th>\n",
       "      <td>0.999990</td>\n",
       "      <td>0.884740</td>\n",
       "      <td>1.000000</td>\n",
       "      <td>0.000000</td>\n",
       "    </tr>\n",
       "    <tr>\n",
       "      <th>93</th>\n",
       "      <td>0.999990</td>\n",
       "      <td>0.886364</td>\n",
       "      <td>1.000000</td>\n",
       "      <td>0.000000</td>\n",
       "    </tr>\n",
       "    <tr>\n",
       "      <th>150</th>\n",
       "      <td>0.999969</td>\n",
       "      <td>0.800731</td>\n",
       "      <td>1.000000</td>\n",
       "      <td>0.000000</td>\n",
       "    </tr>\n",
       "  </tbody>\n",
       "</table>\n",
       "<p>301 rows × 4 columns</p>\n",
       "</div>"
      ],
      "text/plain": [
       "     threshold       fpr       tpr       mdr\n",
       "300   0.463935  0.012987  0.990931  0.009069\n",
       "299   0.483647  0.014610  0.990931  0.009069\n",
       "297   0.567416  0.017857  0.991719  0.008281\n",
       "298   0.510624  0.014610  0.991719  0.008281\n",
       "295   0.600669  0.019886  0.992114  0.007886\n",
       "..         ...       ...       ...       ...\n",
       "97    0.999989  0.881088  1.000000  0.000000\n",
       "96    0.999989  0.882305  1.000000  0.000000\n",
       "95    0.999990  0.884740  1.000000  0.000000\n",
       "93    0.999990  0.886364  1.000000  0.000000\n",
       "150   0.999969  0.800731  1.000000  0.000000\n",
       "\n",
       "[301 rows x 4 columns]"
      ]
     },
     "metadata": {},
     "output_type": "display_data"
    }
   ],
   "source": [
    "def f_get_threshold(df_roc,value,metric='fpr'):\n",
    "    \n",
    "    assert metric in ['fpr','tpr','mdr'], \"metric not any of fpr,tpr, mdr\"\n",
    "\n",
    "    if metric=='fpr':\n",
    "        df=df_roc[df_roc[metric]<value].sort_values(by=metric,ascending=False)\n",
    "        print(\"For %s < %s, threshold < %s \"%(metric,value,df.loc[df[metric].idxmax()].threshold))\n",
    "\n",
    "    if metric=='mdr':\n",
    "        df=df_roc[df_roc[metric]<value].sort_values(by=metric,ascending=False)\n",
    "        print(\"For %s < %s, threshold > %s \"%(metric,value,df.loc[df[metric].idxmax()].threshold))\n",
    "\n",
    "    if metric=='tpr':\n",
    "        df=df_roc[df_roc[metric]>value].sort_values(by=metric,ascending=True)\n",
    "        print(\"For %s > %s, threshold > %s \"%(metric,value,df.loc[df[metric].idxmin()].threshold))\n",
    "\n",
    "#     print(df.loc[df[metric].idxmax()].threshold)\n",
    "\n",
    "    display(df)\n",
    "#     return df\n",
    "\n",
    "print(\"Threshold definition: Value > threshold is defined as False (Non-artifact)\")\n",
    "f_get_threshold(df_roc,0.01,'fpr')\n",
    "f_get_threshold(df_roc,0.005,'mdr')\n",
    "f_get_threshold(df_roc,0.99,'tpr')"
   ]
  },
  {
   "cell_type": "code",
   "execution_count": 111,
   "metadata": {},
   "outputs": [],
   "source": [
    "# f_get_threshold(df_roc,0.01,'fpr')\n",
    "# f_get_threshold(df_roc,0.005,'mdr')\n",
    "# f_get_threshold(df_roc,0.99,'tpr')"
   ]
  },
  {
   "cell_type": "code",
   "execution_count": null,
   "metadata": {},
   "outputs": [],
   "source": []
  }
 ],
 "metadata": {
  "kernelspec": {
   "display_name": "v3",
   "language": "python",
   "name": "v-jpt-3"
  },
  "language_info": {
   "codemirror_mode": {
    "name": "ipython",
    "version": 3
   },
   "file_extension": ".py",
   "mimetype": "text/x-python",
   "name": "python",
   "nbconvert_exporter": "python",
   "pygments_lexer": "ipython3",
   "version": "3.8.6"
  },
  "toc": {
   "base_numbering": 1,
   "nav_menu": {},
   "number_sections": true,
   "sideBar": true,
   "skip_h1_title": false,
   "title_cell": "Table of Contents",
   "title_sidebar": "Contents",
   "toc_cell": false,
   "toc_position": {},
   "toc_section_display": true,
   "toc_window_display": false
  },
  "toc-autonumbering": true,
  "toc-showmarkdowntxt": false
 },
 "nbformat": 4,
 "nbformat_minor": 4
}
