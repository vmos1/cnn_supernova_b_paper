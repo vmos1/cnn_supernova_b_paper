{
 "cells": [
  {
   "cell_type": "markdown",
   "metadata": {},
   "source": [
    "# Code to identify mis-classified points and explore their features\n",
    "\n",
    "July 21, 2020\n"
   ]
  },
  {
   "cell_type": "code",
   "execution_count": 1,
   "metadata": {},
   "outputs": [],
   "source": [
    "import numpy as np\n",
    "import matplotlib.pyplot as plt\n",
    "import seaborn as sns\n",
    "\n",
    "import pandas as pd\n",
    "\n",
    "import subprocess as sp\n",
    "import pickle\n",
    "import ipywidgets as widgets\n",
    "import time\n"
   ]
  },
  {
   "cell_type": "code",
   "execution_count": 2,
   "metadata": {},
   "outputs": [],
   "source": [
    "from sklearn.metrics import roc_curve"
   ]
  },
  {
   "cell_type": "code",
   "execution_count": 3,
   "metadata": {},
   "outputs": [],
   "source": [
    "%matplotlib widget"
   ]
  },
  {
   "attachments": {
    "3608f0cd-0326-41c5-a6d0-09f5e59b0a9c.png": {
     "image/png": "[encoded data removed]"
    }
   },
   "cell_type": "markdown",
   "metadata": {},
   "source": [
    "![image.png](attachment:3608f0cd-0326-41c5-a6d0-09f5e59b0a9c.png)"
   ]
  },
  {
   "cell_type": "markdown",
   "metadata": {},
   "source": [
    "## Read test data and predictions"
   ]
  },
  {
   "cell_type": "code",
   "execution_count": 4,
   "metadata": {},
   "outputs": [],
   "source": [
    "main_dir='/global/cfs/cdirs/dasrepo/vpa/supernova_cnn/data/results_data/results/final_summary_data_folder/'"
   ]
  },
  {
   "cell_type": "code",
   "execution_count": 5,
   "metadata": {},
   "outputs": [],
   "source": [
    "f1=main_dir+'sample_test_data/temp_bigger_data/input_labels_y.txt'\n",
    "f2=main_dir+'results_inference/y_large_pred.txt'"
   ]
  },
  {
   "cell_type": "code",
   "execution_count": 6,
   "metadata": {},
   "outputs": [
    {
     "name": "stdout",
     "output_type": "stream",
     "text": [
      "(5000, 2)\n"
     ]
    },
    {
     "data": {
      "text/html": [
       "<div>\n",
       "<style scoped>\n",
       "    .dataframe tbody tr th:only-of-type {\n",
       "        vertical-align: middle;\n",
       "    }\n",
       "\n",
       "    .dataframe tbody tr th {\n",
       "        vertical-align: top;\n",
       "    }\n",
       "\n",
       "    .dataframe thead th {\n",
       "        text-align: right;\n",
       "    }\n",
       "</style>\n",
       "<table border=\"1\" class=\"dataframe\">\n",
       "  <thead>\n",
       "    <tr style=\"text-align: right;\">\n",
       "      <th></th>\n",
       "      <th>label</th>\n",
       "      <th>pred</th>\n",
       "    </tr>\n",
       "  </thead>\n",
       "  <tbody>\n",
       "    <tr>\n",
       "      <th>0</th>\n",
       "      <td>1</td>\n",
       "      <td>0.999773</td>\n",
       "    </tr>\n",
       "    <tr>\n",
       "      <th>1</th>\n",
       "      <td>0</td>\n",
       "      <td>0.000031</td>\n",
       "    </tr>\n",
       "    <tr>\n",
       "      <th>2</th>\n",
       "      <td>1</td>\n",
       "      <td>0.999562</td>\n",
       "    </tr>\n",
       "    <tr>\n",
       "      <th>3</th>\n",
       "      <td>1</td>\n",
       "      <td>0.995830</td>\n",
       "    </tr>\n",
       "    <tr>\n",
       "      <th>4</th>\n",
       "      <td>1</td>\n",
       "      <td>0.999947</td>\n",
       "    </tr>\n",
       "  </tbody>\n",
       "</table>\n",
       "</div>"
      ],
      "text/plain": [
       "   label      pred\n",
       "0      1  0.999773\n",
       "1      0  0.000031\n",
       "2      1  0.999562\n",
       "3      1  0.995830\n",
       "4      1  0.999947"
      ]
     },
     "execution_count": 6,
     "metadata": {},
     "output_type": "execute_result"
    }
   ],
   "source": [
    "df=pd.DataFrame()\n",
    "df['label']=np.loadtxt(f1,dtype=np.int16)\n",
    "df['pred']=np.loadtxt(f2,dtype=np.float32)\n",
    "\n",
    "print(df.shape)\n",
    "df.head()\n"
   ]
  },
  {
   "cell_type": "markdown",
   "metadata": {},
   "source": [
    "## Histograms"
   ]
  },
  {
   "cell_type": "code",
   "execution_count": 8,
   "metadata": {},
   "outputs": [
    {
     "data": {
      "application/vnd.jupyter.widget-view+json": {
       "model_id": "4a78d0ee34fb480cb6add0c2de7e9d06",
       "version_major": 2,
       "version_minor": 0
      },
      "text/plain": [
       "Canvas(toolbar=Toolbar(toolitems=[('Home', 'Reset original view', 'home', 'home'), ('Back', 'Back to previous …"
      ]
     },
     "metadata": {},
     "output_type": "display_data"
    },
    {
     "data": {
      "text/plain": [
       "array([<AxesSubplot:ylabel='Frequency'>, <AxesSubplot:ylabel='Frequency'>],\n",
       "      dtype=object)"
      ]
     },
     "execution_count": 8,
     "metadata": {},
     "output_type": "execute_result"
    }
   ],
   "source": [
    "df.plot(kind='hist',y=['label','pred'],subplots=True,grid=True,bins=12)"
   ]
  },
  {
   "cell_type": "code",
   "execution_count": 9,
   "metadata": {},
   "outputs": [
    {
     "data": {
      "application/vnd.jupyter.widget-view+json": {
       "model_id": "c671758de2ae45e59c402c6fe07feb8b",
       "version_major": 2,
       "version_minor": 0
      },
      "text/plain": [
       "Canvas(toolbar=Toolbar(toolitems=[('Home', 'Reset original view', 'home', 'home'), ('Back', 'Back to previous …"
      ]
     },
     "metadata": {},
     "output_type": "display_data"
    },
    {
     "data": {
      "text/plain": [
       "<matplotlib.legend.Legend at 0x2aaadadea8e0>"
      ]
     },
     "execution_count": 9,
     "metadata": {},
     "output_type": "execute_result"
    }
   ],
   "source": [
    "### Prediction histograms\n",
    "#### Comparing predction\n",
    "\n",
    "plt.figure()\n",
    "column='pred'\n",
    "# Predictions at points where label is 1\n",
    "sig_preds=df[df.label==1][column].values\n",
    "# Predictions at points where label is 0\n",
    "bkg_preds=df[df.label==0][column].values\n",
    "plt.hist([sig_preds,bkg_preds],bins=20,alpha=0.5,label=[column+':Artifact=1',column+':non-artifacts=0'])\n",
    "plt.legend()"
   ]
  },
  {
   "cell_type": "markdown",
   "metadata": {},
   "source": [
    "## Plot roc curve"
   ]
  },
  {
   "cell_type": "markdown",
   "metadata": {},
   "source": [
    "####The ROC curve flip argument\n",
    "\n",
    "Since True=1 in keras, but Non-Artifact is defined as 0 in the paper, \n",
    "Tp <-> Tn and Fn <-> Fp\n",
    "\n",
    "Actual roc curve is x=mdr, y=fpr\n",
    "\n",
    "\n",
    "mdr=Fn/(Tp+Fn) -> Fp/(Tn+Fp) = fpr\n",
    "fpr=Fp/(Tn+Fp) -> Fn/(Tp+Fn) = mdr = fnr = 1-tpr\n",
    "\n",
    "\n",
    "Hence we get an mdr <-> fpr flip\n"
   ]
  },
  {
   "cell_type": "code",
   "execution_count": 10,
   "metadata": {},
   "outputs": [],
   "source": [
    "def f_roc(df,col,label,fig_type='mdr'):\n",
    "    '''\n",
    "    Function to plot the roc curve\n",
    "    '''\n",
    "    fpr,tpr,threshold=roc_curve(df.label,df[col],pos_label=None)\n",
    "    \n",
    "    if fig_type=='mdr':\n",
    "#         x,y=1-tpr,fpr \n",
    "        x,y=fpr,(1-tpr)     # The roc curve flip: mdr-> fpr; fpr-> (1-tpr)\n",
    "        plt.plot(x, y,linestyle='',label=label,markersize=2,marker='*')\n",
    "        # ### Reference points in mdr plot in paper\n",
    "        \n",
    "    \n",
    "        rf_2015_lst=[(0.03,0.038),(0.04,0.024),(0.05,0.016)]\n",
    "        for count,a in enumerate(rf_2015_lst):\n",
    "            if count==0:\n",
    "                plt.plot(a[0],a[1],marker='s',markersize=8,color='k',label='RF_2015')\n",
    "            else: \n",
    "                plt.plot(a[0],a[1],marker='s',markersize=8,color='k')\n",
    "\n",
    "        plt.xlabel('MDR')\n",
    "        plt.ylabel('FPR')\n",
    "        plt.xlim(0,0.1)\n",
    "        plt.ylim(0,0.05)\n",
    "        \n",
    "    if fig_type=='tpr':\n",
    "        x,y=(1-tpr),(1-fpr)     # The roc curve flip: fpr-> (1-tpr); tpr-> (1-fpr)\n",
    "        plt.plot(x, y,linestyle='',label=label,markersize=2,marker='*')\n",
    "        plt.xlabel('FPR')\n",
    "        plt.ylabel('TPR')\n",
    "    \n",
    "    plt.legend()\n",
    "    "
   ]
  },
  {
   "cell_type": "code",
   "execution_count": 11,
   "metadata": {},
   "outputs": [
    {
     "data": {
      "application/vnd.jupyter.widget-view+json": {
       "model_id": "da46113f211842cca00ef06cbe052383",
       "version_major": 2,
       "version_minor": 0
      },
      "text/plain": [
       "Canvas(toolbar=Toolbar(toolitems=[('Home', 'Reset original view', 'home', 'home'), ('Back', 'Back to previous …"
      ]
     },
     "metadata": {},
     "output_type": "display_data"
    },
    {
     "data": {
      "application/vnd.jupyter.widget-view+json": {
       "model_id": "144b9288c47c4d9496efa5129f078c48",
       "version_major": 2,
       "version_minor": 0
      },
      "text/plain": [
       "Canvas(toolbar=Toolbar(toolitems=[('Home', 'Reset original view', 'home', 'home'), ('Back', 'Back to previous …"
      ]
     },
     "metadata": {},
     "output_type": "display_data"
    },
    {
     "name": "stderr",
     "output_type": "stream",
     "text": [
      "<ipython-input-11-91aefc6483a5>:8: UserWarning: Attempted to set non-positive left xlim on a log-scaled axis.\n",
      "Invalid limit will be ignored.\n",
      "  plt.xlim(0,0.04)\n"
     ]
    },
    {
     "data": {
      "text/plain": [
       "Text(0.5, 1.0, 'TPR roc curve')"
      ]
     },
     "execution_count": 11,
     "metadata": {},
     "output_type": "execute_result"
    }
   ],
   "source": [
    "plt.figure()\n",
    "f_roc(df,'pred','pred',fig_type='mdr')\n",
    "plt.title('MDR roc curve')\n",
    "\n",
    "plt.figure()\n",
    "f_roc(df,'pred','pred',fig_type='tpr')\n",
    "plt.xscale('log')\n",
    "plt.xlim(0,0.04)\n",
    "plt.title('TPR roc curve')"
   ]
  },
  {
   "cell_type": "code",
   "execution_count": null,
   "metadata": {},
   "outputs": [],
   "source": []
  },
  {
   "cell_type": "code",
   "execution_count": null,
   "metadata": {},
   "outputs": [],
   "source": []
  }
 ],
 "metadata": {
  "kernelspec": {
   "display_name": "v3",
   "language": "python",
   "name": "v-jpt-3"
  },
  "language_info": {
   "codemirror_mode": {
    "name": "ipython",
    "version": 3
   },
   "file_extension": ".py",
   "mimetype": "text/x-python",
   "name": "python",
   "nbconvert_exporter": "python",
   "pygments_lexer": "ipython3",
   "version": "3.8.6"
  },
  "toc": {
   "base_numbering": 1,
   "nav_menu": {},
   "number_sections": true,
   "sideBar": true,
   "skip_h1_title": false,
   "title_cell": "Table of Contents",
   "title_sidebar": "Contents",
   "toc_cell": false,
   "toc_position": {},
   "toc_section_display": true,
   "toc_window_display": false
  },
  "toc-autonumbering": true,
  "toc-showmarkdowntxt": false
 },
 "nbformat": 4,
 "nbformat_minor": 4
}
