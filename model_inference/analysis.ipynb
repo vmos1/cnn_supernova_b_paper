{
 "cells": [
  {
   "cell_type": "markdown",
   "metadata": {},
   "source": [
    "# Code to identify mis-classified points and explore their features\n",
    "\n",
    "July 21, 2020\n"
   ]
  },
  {
   "cell_type": "code",
   "execution_count": 1,
   "metadata": {},
   "outputs": [],
   "source": [
    "import numpy as np\n",
    "import matplotlib.pyplot as plt\n",
    "import seaborn as sns\n",
    "\n",
    "import pandas as pd\n",
    "\n",
    "import subprocess as sp\n",
    "import pickle\n",
    "import ipywidgets as widgets\n",
    "import time\n"
   ]
  },
  {
   "cell_type": "code",
   "execution_count": 2,
   "metadata": {},
   "outputs": [],
   "source": [
    "from sklearn.metrics import roc_curve"
   ]
  },
  {
   "cell_type": "code",
   "execution_count": 3,
   "metadata": {},
   "outputs": [],
   "source": [
    "%matplotlib widget"
   ]
  },
  {
   "attachments": {
    "3608f0cd-0326-41c5-a6d0-09f5e59b0a9c.png": {
     "image/png": "[encoded data removed]"
    }
   },
   "cell_type": "markdown",
   "metadata": {},
   "source": [
    "![image.png](attachment:3608f0cd-0326-41c5-a6d0-09f5e59b0a9c.png)"
   ]
  },
  {
   "cell_type": "markdown",
   "metadata": {},
   "source": [
    "## Read test data and predictions"
   ]
  },
  {
   "cell_type": "code",
   "execution_count": 4,
   "metadata": {},
   "outputs": [],
   "source": [
    "main_dir='/global/cfs/cdirs/dasrepo/vpa/supernova_cnn/data/results_data/results/final_summary_data_folder/'"
   ]
  },
  {
   "cell_type": "code",
   "execution_count": 5,
   "metadata": {},
   "outputs": [],
   "source": [
    "f1=main_dir+'sample_test_data/full_test_data/input_labels_y.txt'\n",
    "f2=main_dir+'results_inference/y_fulltest_pred.txt'"
   ]
  },
  {
   "cell_type": "code",
   "execution_count": 6,
   "metadata": {},
   "outputs": [
    {
     "name": "stdout",
     "output_type": "stream",
     "text": [
      "(40000, 2)\n"
     ]
    },
    {
     "data": {
      "text/html": [
       "<div>\n",
       "<style scoped>\n",
       "    .dataframe tbody tr th:only-of-type {\n",
       "        vertical-align: middle;\n",
       "    }\n",
       "\n",
       "    .dataframe tbody tr th {\n",
       "        vertical-align: top;\n",
       "    }\n",
       "\n",
       "    .dataframe thead th {\n",
       "        text-align: right;\n",
       "    }\n",
       "</style>\n",
       "<table border=\"1\" class=\"dataframe\">\n",
       "  <thead>\n",
       "    <tr style=\"text-align: right;\">\n",
       "      <th></th>\n",
       "      <th>label</th>\n",
       "      <th>pred</th>\n",
       "    </tr>\n",
       "  </thead>\n",
       "  <tbody>\n",
       "    <tr>\n",
       "      <th>0</th>\n",
       "      <td>0</td>\n",
       "      <td>0.000139</td>\n",
       "    </tr>\n",
       "    <tr>\n",
       "      <th>1</th>\n",
       "      <td>0</td>\n",
       "      <td>0.000028</td>\n",
       "    </tr>\n",
       "    <tr>\n",
       "      <th>2</th>\n",
       "      <td>0</td>\n",
       "      <td>0.496657</td>\n",
       "    </tr>\n",
       "    <tr>\n",
       "      <th>3</th>\n",
       "      <td>1</td>\n",
       "      <td>0.999948</td>\n",
       "    </tr>\n",
       "    <tr>\n",
       "      <th>4</th>\n",
       "      <td>1</td>\n",
       "      <td>0.999581</td>\n",
       "    </tr>\n",
       "  </tbody>\n",
       "</table>\n",
       "</div>"
      ],
      "text/plain": [
       "   label      pred\n",
       "0      0  0.000139\n",
       "1      0  0.000028\n",
       "2      0  0.496657\n",
       "3      1  0.999948\n",
       "4      1  0.999581"
      ]
     },
     "execution_count": 6,
     "metadata": {},
     "output_type": "execute_result"
    }
   ],
   "source": [
    "df=pd.DataFrame()\n",
    "df['label']=np.loadtxt(f1,dtype=np.int16)\n",
    "df['pred']=np.loadtxt(f2,dtype=np.float32)\n",
    "\n",
    "print(df.shape)\n",
    "df.head()\n"
   ]
  },
  {
   "cell_type": "markdown",
   "metadata": {},
   "source": [
    "## Histograms"
   ]
  },
  {
   "cell_type": "code",
   "execution_count": 7,
   "metadata": {},
   "outputs": [
    {
     "data": {
      "application/vnd.jupyter.widget-view+json": {
       "model_id": "f2bbe7844169433080c500f7e4313511",
       "version_major": 2,
       "version_minor": 0
      },
      "text/plain": [
       "Canvas(toolbar=Toolbar(toolitems=[('Home', 'Reset original view', 'home', 'home'), ('Back', 'Back to previous …"
      ]
     },
     "metadata": {},
     "output_type": "display_data"
    },
    {
     "data": {
      "text/plain": [
       "array([<AxesSubplot:ylabel='Frequency'>, <AxesSubplot:ylabel='Frequency'>],\n",
       "      dtype=object)"
      ]
     },
     "execution_count": 7,
     "metadata": {},
     "output_type": "execute_result"
    }
   ],
   "source": [
    "df.plot(kind='hist',y=['label','pred'],subplots=True,grid=True,bins=12)"
   ]
  },
  {
   "cell_type": "code",
   "execution_count": 9,
   "metadata": {},
   "outputs": [
    {
     "data": {
      "application/vnd.jupyter.widget-view+json": {
       "model_id": "144f8db111c74c868382e50101cd60f9",
       "version_major": 2,
       "version_minor": 0
      },
      "text/plain": [
       "Canvas(toolbar=Toolbar(toolitems=[('Home', 'Reset original view', 'home', 'home'), ('Back', 'Back to previous …"
      ]
     },
     "metadata": {},
     "output_type": "display_data"
    },
    {
     "data": {
      "text/plain": [
       "<matplotlib.legend.Legend at 0x2aaadac46850>"
      ]
     },
     "execution_count": 9,
     "metadata": {},
     "output_type": "execute_result"
    }
   ],
   "source": [
    "### Prediction histograms\n",
    "#### Comparing predction\n",
    "\n",
    "plt.figure()\n",
    "column='pred'\n",
    "# Predictions at points where label is 1\n",
    "sig_preds=df[df.label==1][column].values\n",
    "# Predictions at points where label is 0\n",
    "bkg_preds=df[df.label==0][column].values\n",
    "plt.hist([sig_preds,bkg_preds],bins=20,alpha=0.5,label=[column+':Artifact=1',column+':non-artifacts=0'])\n",
    "plt.legend()"
   ]
  },
  {
   "cell_type": "markdown",
   "metadata": {},
   "source": [
    "## Plot roc curve"
   ]
  },
  {
   "cell_type": "markdown",
   "metadata": {},
   "source": [
    "####The ROC curve flip argument\n",
    "\n",
    "Since True=1 in keras, but Non-Artifact is defined as 0 in the paper, \n",
    "Tp <-> Tn and Fn <-> Fp\n",
    "\n",
    "Actual roc curve is x=mdr, y=fpr\n",
    "\n",
    "\n",
    "mdr=Fn/(Tp+Fn) -> Fp/(Tn+Fp) = fpr \\\n",
    "\n",
    "fpr=Fp/(Tn+Fp) -> Fn/(Tp+Fn) = mdr = fnr = 1-tpr\n",
    "\n",
    "\n",
    "Hence we get an mdr <-> fpr flip\n"
   ]
  },
  {
   "cell_type": "code",
   "execution_count": 10,
   "metadata": {},
   "outputs": [],
   "source": [
    "def f_roc(df,col,label,fig_type='mdr'):\n",
    "    '''\n",
    "    Function to plot the roc curve\n",
    "    '''\n",
    "    fpr,tpr,threshold=roc_curve(df.label,df[col],pos_label=None)\n",
    "    \n",
    "    if fig_type=='mdr':\n",
    "#         x,y=1-tpr,fpr \n",
    "        x,y=fpr,(1-tpr)     # The roc curve flip: mdr-> fpr; fpr-> (1-tpr)\n",
    "        plt.plot(x, y,linestyle='',label=label,markersize=4,marker='*')\n",
    "        # ### Reference points in mdr plot in paper\n",
    "        \n",
    "    \n",
    "        rf_2015_lst=[(0.03,0.038),(0.04,0.024),(0.05,0.016)]\n",
    "        for count,a in enumerate(rf_2015_lst):\n",
    "            if count==0:\n",
    "                plt.plot(a[0],a[1],marker='s',markersize=8,color='k',label='RF_2015')\n",
    "            else: \n",
    "                plt.plot(a[0],a[1],marker='s',markersize=8,color='k')\n",
    "\n",
    "        plt.xlabel('MDR')\n",
    "        plt.ylabel('FPR')\n",
    "        plt.xlim(0,0.1)\n",
    "        plt.ylim(0,0.05)\n",
    "        \n",
    "    if fig_type=='tpr':\n",
    "        x,y=(1-tpr),(1-fpr)     # The roc curve flip: fpr-> (1-tpr); tpr-> (1-fpr)\n",
    "        plt.plot(x, y,linestyle='',label=label,markersize=4,marker='*')\n",
    "        plt.xlabel('FPR')\n",
    "        plt.ylabel('TPR')\n",
    "    \n",
    "    plt.legend()\n",
    "    "
   ]
  },
  {
   "cell_type": "code",
   "execution_count": 11,
   "metadata": {},
   "outputs": [
    {
     "data": {
      "application/vnd.jupyter.widget-view+json": {
       "model_id": "46a63cdb486d4a8986c01d115e162e23",
       "version_major": 2,
       "version_minor": 0
      },
      "text/plain": [
       "Canvas(toolbar=Toolbar(toolitems=[('Home', 'Reset original view', 'home', 'home'), ('Back', 'Back to previous …"
      ]
     },
     "metadata": {},
     "output_type": "display_data"
    },
    {
     "data": {
      "text/plain": [
       "Text(0.5, 1.0, 'MDR roc curve')"
      ]
     },
     "execution_count": 11,
     "metadata": {},
     "output_type": "execute_result"
    }
   ],
   "source": [
    "plt.figure()\n",
    "f_roc(df,'pred','pred',fig_type='mdr')\n",
    "plt.title('MDR roc curve')"
   ]
  },
  {
   "cell_type": "code",
   "execution_count": 12,
   "metadata": {},
   "outputs": [
    {
     "data": {
      "application/vnd.jupyter.widget-view+json": {
       "model_id": "4630c816685c402b9d755d30a80dfad6",
       "version_major": 2,
       "version_minor": 0
      },
      "text/plain": [
       "Canvas(toolbar=Toolbar(toolitems=[('Home', 'Reset original view', 'home', 'home'), ('Back', 'Back to previous …"
      ]
     },
     "metadata": {},
     "output_type": "display_data"
    },
    {
     "data": {
      "text/plain": [
       "Text(0.5, 1.0, 'TPR roc curve')"
      ]
     },
     "execution_count": 12,
     "metadata": {},
     "output_type": "execute_result"
    }
   ],
   "source": [
    "\n",
    "plt.figure()\n",
    "f_roc(df,'pred','pred',fig_type='tpr')\n",
    "# plt.xscale('log')\n",
    "plt.xlim(0,1)\n",
    "plt.title('TPR roc curve')"
   ]
  },
  {
   "cell_type": "markdown",
   "metadata": {},
   "source": [
    "### Threshold prediction"
   ]
  },
  {
   "cell_type": "code",
   "execution_count": 32,
   "metadata": {},
   "outputs": [],
   "source": [
    "fpr,tpr,threshold=roc_curve(df.label,df['pred'],pos_label=None)\n",
    "\n",
    "cols=['threshold','fpr','tpr','mdr']\n",
    "df_roc=pd.DataFrame(columns=cols)\n",
    "# for i,j in zip(['threshold','fpr','tpr','mdr'],[threshold,fpr,tpr,1-tpr]):  ### the method for normal signal-background\n",
    "for i,j in zip(['threshold','fpr','tpr','mdr'],[threshold,1-tpr,1-fpr,fpr]): # the method for our case: Artifact is 0\n",
    "    df_roc[i]=j\n"
   ]
  },
  {
   "cell_type": "code",
   "execution_count": 36,
   "metadata": {},
   "outputs": [
    {
     "data": {
      "text/html": [
       "<div>\n",
       "<style scoped>\n",
       "    .dataframe tbody tr th:only-of-type {\n",
       "        vertical-align: middle;\n",
       "    }\n",
       "\n",
       "    .dataframe tbody tr th {\n",
       "        vertical-align: top;\n",
       "    }\n",
       "\n",
       "    .dataframe thead th {\n",
       "        text-align: right;\n",
       "    }\n",
       "</style>\n",
       "<table border=\"1\" class=\"dataframe\">\n",
       "  <thead>\n",
       "    <tr style=\"text-align: right;\">\n",
       "      <th></th>\n",
       "      <th>threshold</th>\n",
       "      <th>fpr</th>\n",
       "      <th>tpr</th>\n",
       "      <th>mdr</th>\n",
       "    </tr>\n",
       "  </thead>\n",
       "  <tbody>\n",
       "    <tr>\n",
       "      <th>0</th>\n",
       "      <td>2.000000e+00</td>\n",
       "      <td>1.000000</td>\n",
       "      <td>1.000000</td>\n",
       "      <td>0.000000</td>\n",
       "    </tr>\n",
       "    <tr>\n",
       "      <th>1</th>\n",
       "      <td>1.000000e+00</td>\n",
       "      <td>0.997195</td>\n",
       "      <td>1.000000</td>\n",
       "      <td>0.000000</td>\n",
       "    </tr>\n",
       "    <tr>\n",
       "      <th>2</th>\n",
       "      <td>9.999999e-01</td>\n",
       "      <td>0.996343</td>\n",
       "      <td>1.000000</td>\n",
       "      <td>0.000000</td>\n",
       "    </tr>\n",
       "    <tr>\n",
       "      <th>3</th>\n",
       "      <td>9.999999e-01</td>\n",
       "      <td>0.992937</td>\n",
       "      <td>1.000000</td>\n",
       "      <td>0.000000</td>\n",
       "    </tr>\n",
       "    <tr>\n",
       "      <th>4</th>\n",
       "      <td>9.999998e-01</td>\n",
       "      <td>0.991585</td>\n",
       "      <td>1.000000</td>\n",
       "      <td>0.000000</td>\n",
       "    </tr>\n",
       "    <tr>\n",
       "      <th>...</th>\n",
       "      <td>...</td>\n",
       "      <td>...</td>\n",
       "      <td>...</td>\n",
       "      <td>...</td>\n",
       "    </tr>\n",
       "    <tr>\n",
       "      <th>8818</th>\n",
       "      <td>1.490116e-06</td>\n",
       "      <td>0.000000</td>\n",
       "      <td>0.000599</td>\n",
       "      <td>0.999401</td>\n",
       "    </tr>\n",
       "    <tr>\n",
       "      <th>8819</th>\n",
       "      <td>1.430511e-06</td>\n",
       "      <td>0.000000</td>\n",
       "      <td>0.000399</td>\n",
       "      <td>0.999601</td>\n",
       "    </tr>\n",
       "    <tr>\n",
       "      <th>8820</th>\n",
       "      <td>1.251698e-06</td>\n",
       "      <td>0.000000</td>\n",
       "      <td>0.000299</td>\n",
       "      <td>0.999701</td>\n",
       "    </tr>\n",
       "    <tr>\n",
       "      <th>8821</th>\n",
       "      <td>9.238720e-07</td>\n",
       "      <td>0.000000</td>\n",
       "      <td>0.000100</td>\n",
       "      <td>0.999900</td>\n",
       "    </tr>\n",
       "    <tr>\n",
       "      <th>8822</th>\n",
       "      <td>7.748604e-07</td>\n",
       "      <td>0.000000</td>\n",
       "      <td>0.000000</td>\n",
       "      <td>1.000000</td>\n",
       "    </tr>\n",
       "  </tbody>\n",
       "</table>\n",
       "<p>8823 rows × 4 columns</p>\n",
       "</div>"
      ],
      "text/plain": [
       "         threshold       fpr       tpr       mdr\n",
       "0     2.000000e+00  1.000000  1.000000  0.000000\n",
       "1     1.000000e+00  0.997195  1.000000  0.000000\n",
       "2     9.999999e-01  0.996343  1.000000  0.000000\n",
       "3     9.999999e-01  0.992937  1.000000  0.000000\n",
       "4     9.999998e-01  0.991585  1.000000  0.000000\n",
       "...            ...       ...       ...       ...\n",
       "8818  1.490116e-06  0.000000  0.000599  0.999401\n",
       "8819  1.430511e-06  0.000000  0.000399  0.999601\n",
       "8820  1.251698e-06  0.000000  0.000299  0.999701\n",
       "8821  9.238720e-07  0.000000  0.000100  0.999900\n",
       "8822  7.748604e-07  0.000000  0.000000  1.000000\n",
       "\n",
       "[8823 rows x 4 columns]"
      ]
     },
     "execution_count": 36,
     "metadata": {},
     "output_type": "execute_result"
    }
   ],
   "source": [
    "df_roc"
   ]
  },
  {
   "cell_type": "code",
   "execution_count": 37,
   "metadata": {},
   "outputs": [
    {
     "data": {
      "application/vnd.jupyter.widget-view+json": {
       "model_id": "41accad8ed714115b645d3dfb14c1531",
       "version_major": 2,
       "version_minor": 0
      },
      "text/plain": [
       "Canvas(toolbar=Toolbar(toolitems=[('Home', 'Reset original view', 'home', 'home'), ('Back', 'Back to previous …"
      ]
     },
     "metadata": {},
     "output_type": "display_data"
    },
    {
     "data": {
      "text/plain": [
       "<AxesSubplot:>"
      ]
     },
     "execution_count": 37,
     "metadata": {},
     "output_type": "execute_result"
    }
   ],
   "source": [
    "df_roc[1:].plot(kind='line',y=['threshold','fpr','tpr'])"
   ]
  },
  {
   "cell_type": "code",
   "execution_count": 38,
   "metadata": {},
   "outputs": [
    {
     "data": {
      "application/vnd.jupyter.widget-view+json": {
       "model_id": "378d60cc786c4d579cc2e9bef5da77ad",
       "version_major": 2,
       "version_minor": 0
      },
      "text/plain": [
       "Canvas(toolbar=Toolbar(toolitems=[('Home', 'Reset original view', 'home', 'home'), ('Back', 'Back to previous …"
      ]
     },
     "metadata": {},
     "output_type": "display_data"
    },
    {
     "data": {
      "text/plain": [
       "<AxesSubplot:xlabel='threshold'>"
      ]
     },
     "execution_count": 38,
     "metadata": {},
     "output_type": "execute_result"
    }
   ],
   "source": [
    "df_roc[1:].plot(kind='line',x='threshold',y=['fpr','tpr','mdr'],style='*')"
   ]
  },
  {
   "cell_type": "code",
   "execution_count": 47,
   "metadata": {},
   "outputs": [
    {
     "name": "stdout",
     "output_type": "stream",
     "text": [
      "Threshold definition: Value > threshold is defined as 1, which is False (Non-artifact)\n",
      "For fpr < 0.01, threshold < 0.3177732229232788 \n"
     ]
    },
    {
     "data": {
      "text/html": [
       "<div>\n",
       "<style scoped>\n",
       "    .dataframe tbody tr th:only-of-type {\n",
       "        vertical-align: middle;\n",
       "    }\n",
       "\n",
       "    .dataframe tbody tr th {\n",
       "        vertical-align: top;\n",
       "    }\n",
       "\n",
       "    .dataframe thead th {\n",
       "        text-align: right;\n",
       "    }\n",
       "</style>\n",
       "<table border=\"1\" class=\"dataframe\">\n",
       "  <thead>\n",
       "    <tr style=\"text-align: right;\">\n",
       "      <th></th>\n",
       "      <th>threshold</th>\n",
       "      <th>fpr</th>\n",
       "      <th>tpr</th>\n",
       "      <th>mdr</th>\n",
       "    </tr>\n",
       "  </thead>\n",
       "  <tbody>\n",
       "    <tr>\n",
       "      <th>4124</th>\n",
       "      <td>3.177732e-01</td>\n",
       "      <td>0.009968</td>\n",
       "      <td>0.977041</td>\n",
       "      <td>0.022959</td>\n",
       "    </tr>\n",
       "    <tr>\n",
       "      <th>4125</th>\n",
       "      <td>3.165433e-01</td>\n",
       "      <td>0.009968</td>\n",
       "      <td>0.976942</td>\n",
       "      <td>0.023058</td>\n",
       "    </tr>\n",
       "    <tr>\n",
       "      <th>4126</th>\n",
       "      <td>3.158555e-01</td>\n",
       "      <td>0.009918</td>\n",
       "      <td>0.976942</td>\n",
       "      <td>0.023058</td>\n",
       "    </tr>\n",
       "    <tr>\n",
       "      <th>4127</th>\n",
       "      <td>3.156214e-01</td>\n",
       "      <td>0.009918</td>\n",
       "      <td>0.976892</td>\n",
       "      <td>0.023108</td>\n",
       "    </tr>\n",
       "    <tr>\n",
       "      <th>4128</th>\n",
       "      <td>3.153765e-01</td>\n",
       "      <td>0.009868</td>\n",
       "      <td>0.976892</td>\n",
       "      <td>0.023108</td>\n",
       "    </tr>\n",
       "    <tr>\n",
       "      <th>...</th>\n",
       "      <td>...</td>\n",
       "      <td>...</td>\n",
       "      <td>...</td>\n",
       "      <td>...</td>\n",
       "    </tr>\n",
       "    <tr>\n",
       "      <th>6107</th>\n",
       "      <td>1.893342e-04</td>\n",
       "      <td>0.000000</td>\n",
       "      <td>0.402176</td>\n",
       "      <td>0.597824</td>\n",
       "    </tr>\n",
       "    <tr>\n",
       "      <th>6108</th>\n",
       "      <td>1.892149e-04</td>\n",
       "      <td>0.000000</td>\n",
       "      <td>0.401976</td>\n",
       "      <td>0.598024</td>\n",
       "    </tr>\n",
       "    <tr>\n",
       "      <th>6109</th>\n",
       "      <td>1.891851e-04</td>\n",
       "      <td>0.000000</td>\n",
       "      <td>0.401927</td>\n",
       "      <td>0.598073</td>\n",
       "    </tr>\n",
       "    <tr>\n",
       "      <th>6110</th>\n",
       "      <td>1.891255e-04</td>\n",
       "      <td>0.000000</td>\n",
       "      <td>0.401777</td>\n",
       "      <td>0.598223</td>\n",
       "    </tr>\n",
       "    <tr>\n",
       "      <th>8822</th>\n",
       "      <td>7.748604e-07</td>\n",
       "      <td>0.000000</td>\n",
       "      <td>0.000000</td>\n",
       "      <td>1.000000</td>\n",
       "    </tr>\n",
       "  </tbody>\n",
       "</table>\n",
       "<p>4699 rows × 4 columns</p>\n",
       "</div>"
      ],
      "text/plain": [
       "         threshold       fpr       tpr       mdr\n",
       "4124  3.177732e-01  0.009968  0.977041  0.022959\n",
       "4125  3.165433e-01  0.009968  0.976942  0.023058\n",
       "4126  3.158555e-01  0.009918  0.976942  0.023058\n",
       "4127  3.156214e-01  0.009918  0.976892  0.023108\n",
       "4128  3.153765e-01  0.009868  0.976892  0.023108\n",
       "...            ...       ...       ...       ...\n",
       "6107  1.893342e-04  0.000000  0.402176  0.597824\n",
       "6108  1.892149e-04  0.000000  0.401976  0.598024\n",
       "6109  1.891851e-04  0.000000  0.401927  0.598073\n",
       "6110  1.891255e-04  0.000000  0.401777  0.598223\n",
       "8822  7.748604e-07  0.000000  0.000000  1.000000\n",
       "\n",
       "[4699 rows x 4 columns]"
      ]
     },
     "metadata": {},
     "output_type": "display_data"
    },
    {
     "name": "stdout",
     "output_type": "stream",
     "text": [
      "For mdr < 0.02, threshold > 0.3853110671043396 \n"
     ]
    },
    {
     "data": {
      "text/html": [
       "<div>\n",
       "<style scoped>\n",
       "    .dataframe tbody tr th:only-of-type {\n",
       "        vertical-align: middle;\n",
       "    }\n",
       "\n",
       "    .dataframe tbody tr th {\n",
       "        vertical-align: top;\n",
       "    }\n",
       "\n",
       "    .dataframe thead th {\n",
       "        text-align: right;\n",
       "    }\n",
       "</style>\n",
       "<table border=\"1\" class=\"dataframe\">\n",
       "  <thead>\n",
       "    <tr style=\"text-align: right;\">\n",
       "      <th></th>\n",
       "      <th>threshold</th>\n",
       "      <th>fpr</th>\n",
       "      <th>tpr</th>\n",
       "      <th>mdr</th>\n",
       "    </tr>\n",
       "  </thead>\n",
       "  <tbody>\n",
       "    <tr>\n",
       "      <th>4073</th>\n",
       "      <td>0.385311</td>\n",
       "      <td>0.012072</td>\n",
       "      <td>0.980136</td>\n",
       "      <td>0.019864</td>\n",
       "    </tr>\n",
       "    <tr>\n",
       "      <th>4072</th>\n",
       "      <td>0.385487</td>\n",
       "      <td>0.012172</td>\n",
       "      <td>0.980136</td>\n",
       "      <td>0.019864</td>\n",
       "    </tr>\n",
       "    <tr>\n",
       "      <th>4071</th>\n",
       "      <td>0.388076</td>\n",
       "      <td>0.012172</td>\n",
       "      <td>0.980285</td>\n",
       "      <td>0.019715</td>\n",
       "    </tr>\n",
       "    <tr>\n",
       "      <th>4070</th>\n",
       "      <td>0.388691</td>\n",
       "      <td>0.012222</td>\n",
       "      <td>0.980285</td>\n",
       "      <td>0.019715</td>\n",
       "    </tr>\n",
       "    <tr>\n",
       "      <th>4069</th>\n",
       "      <td>0.389375</td>\n",
       "      <td>0.012222</td>\n",
       "      <td>0.980435</td>\n",
       "      <td>0.019565</td>\n",
       "    </tr>\n",
       "    <tr>\n",
       "      <th>...</th>\n",
       "      <td>...</td>\n",
       "      <td>...</td>\n",
       "      <td>...</td>\n",
       "      <td>...</td>\n",
       "    </tr>\n",
       "    <tr>\n",
       "      <th>1363</th>\n",
       "      <td>0.999881</td>\n",
       "      <td>0.662242</td>\n",
       "      <td>1.000000</td>\n",
       "      <td>0.000000</td>\n",
       "    </tr>\n",
       "    <tr>\n",
       "      <th>1364</th>\n",
       "      <td>0.999881</td>\n",
       "      <td>0.662042</td>\n",
       "      <td>1.000000</td>\n",
       "      <td>0.000000</td>\n",
       "    </tr>\n",
       "    <tr>\n",
       "      <th>1365</th>\n",
       "      <td>0.999881</td>\n",
       "      <td>0.661992</td>\n",
       "      <td>1.000000</td>\n",
       "      <td>0.000000</td>\n",
       "    </tr>\n",
       "    <tr>\n",
       "      <th>1366</th>\n",
       "      <td>0.999880</td>\n",
       "      <td>0.661891</td>\n",
       "      <td>1.000000</td>\n",
       "      <td>0.000000</td>\n",
       "    </tr>\n",
       "    <tr>\n",
       "      <th>2037</th>\n",
       "      <td>0.999749</td>\n",
       "      <td>0.570777</td>\n",
       "      <td>1.000000</td>\n",
       "      <td>0.000000</td>\n",
       "    </tr>\n",
       "  </tbody>\n",
       "</table>\n",
       "<p>4074 rows × 4 columns</p>\n",
       "</div>"
      ],
      "text/plain": [
       "      threshold       fpr       tpr       mdr\n",
       "4073   0.385311  0.012072  0.980136  0.019864\n",
       "4072   0.385487  0.012172  0.980136  0.019864\n",
       "4071   0.388076  0.012172  0.980285  0.019715\n",
       "4070   0.388691  0.012222  0.980285  0.019715\n",
       "4069   0.389375  0.012222  0.980435  0.019565\n",
       "...         ...       ...       ...       ...\n",
       "1363   0.999881  0.662242  1.000000  0.000000\n",
       "1364   0.999881  0.662042  1.000000  0.000000\n",
       "1365   0.999881  0.661992  1.000000  0.000000\n",
       "1366   0.999880  0.661891  1.000000  0.000000\n",
       "2037   0.999749  0.570777  1.000000  0.000000\n",
       "\n",
       "[4074 rows x 4 columns]"
      ]
     },
     "metadata": {},
     "output_type": "display_data"
    },
    {
     "data": {
      "text/html": [
       "<div>\n",
       "<style scoped>\n",
       "    .dataframe tbody tr th:only-of-type {\n",
       "        vertical-align: middle;\n",
       "    }\n",
       "\n",
       "    .dataframe tbody tr th {\n",
       "        vertical-align: top;\n",
       "    }\n",
       "\n",
       "    .dataframe thead th {\n",
       "        text-align: right;\n",
       "    }\n",
       "</style>\n",
       "<table border=\"1\" class=\"dataframe\">\n",
       "  <thead>\n",
       "    <tr style=\"text-align: right;\">\n",
       "      <th></th>\n",
       "      <th>threshold</th>\n",
       "      <th>fpr</th>\n",
       "      <th>tpr</th>\n",
       "      <th>mdr</th>\n",
       "    </tr>\n",
       "  </thead>\n",
       "  <tbody>\n",
       "    <tr>\n",
       "      <th>4073</th>\n",
       "      <td>0.385311</td>\n",
       "      <td>0.012072</td>\n",
       "      <td>0.980136</td>\n",
       "      <td>0.019864</td>\n",
       "    </tr>\n",
       "    <tr>\n",
       "      <th>4072</th>\n",
       "      <td>0.385487</td>\n",
       "      <td>0.012172</td>\n",
       "      <td>0.980136</td>\n",
       "      <td>0.019864</td>\n",
       "    </tr>\n",
       "    <tr>\n",
       "      <th>4071</th>\n",
       "      <td>0.388076</td>\n",
       "      <td>0.012172</td>\n",
       "      <td>0.980285</td>\n",
       "      <td>0.019715</td>\n",
       "    </tr>\n",
       "    <tr>\n",
       "      <th>4070</th>\n",
       "      <td>0.388691</td>\n",
       "      <td>0.012222</td>\n",
       "      <td>0.980285</td>\n",
       "      <td>0.019715</td>\n",
       "    </tr>\n",
       "    <tr>\n",
       "      <th>4069</th>\n",
       "      <td>0.389375</td>\n",
       "      <td>0.012222</td>\n",
       "      <td>0.980435</td>\n",
       "      <td>0.019565</td>\n",
       "    </tr>\n",
       "    <tr>\n",
       "      <th>...</th>\n",
       "      <td>...</td>\n",
       "      <td>...</td>\n",
       "      <td>...</td>\n",
       "      <td>...</td>\n",
       "    </tr>\n",
       "    <tr>\n",
       "      <th>1363</th>\n",
       "      <td>0.999881</td>\n",
       "      <td>0.662242</td>\n",
       "      <td>1.000000</td>\n",
       "      <td>0.000000</td>\n",
       "    </tr>\n",
       "    <tr>\n",
       "      <th>1364</th>\n",
       "      <td>0.999881</td>\n",
       "      <td>0.662042</td>\n",
       "      <td>1.000000</td>\n",
       "      <td>0.000000</td>\n",
       "    </tr>\n",
       "    <tr>\n",
       "      <th>1365</th>\n",
       "      <td>0.999881</td>\n",
       "      <td>0.661992</td>\n",
       "      <td>1.000000</td>\n",
       "      <td>0.000000</td>\n",
       "    </tr>\n",
       "    <tr>\n",
       "      <th>1366</th>\n",
       "      <td>0.999880</td>\n",
       "      <td>0.661891</td>\n",
       "      <td>1.000000</td>\n",
       "      <td>0.000000</td>\n",
       "    </tr>\n",
       "    <tr>\n",
       "      <th>2037</th>\n",
       "      <td>0.999749</td>\n",
       "      <td>0.570777</td>\n",
       "      <td>1.000000</td>\n",
       "      <td>0.000000</td>\n",
       "    </tr>\n",
       "  </tbody>\n",
       "</table>\n",
       "<p>4074 rows × 4 columns</p>\n",
       "</div>"
      ],
      "text/plain": [
       "      threshold       fpr       tpr       mdr\n",
       "4073   0.385311  0.012072  0.980136  0.019864\n",
       "4072   0.385487  0.012172  0.980136  0.019864\n",
       "4071   0.388076  0.012172  0.980285  0.019715\n",
       "4070   0.388691  0.012222  0.980285  0.019715\n",
       "4069   0.389375  0.012222  0.980435  0.019565\n",
       "...         ...       ...       ...       ...\n",
       "1363   0.999881  0.662242  1.000000  0.000000\n",
       "1364   0.999881  0.662042  1.000000  0.000000\n",
       "1365   0.999881  0.661992  1.000000  0.000000\n",
       "1366   0.999880  0.661891  1.000000  0.000000\n",
       "2037   0.999749  0.570777  1.000000  0.000000\n",
       "\n",
       "[4074 rows x 4 columns]"
      ]
     },
     "execution_count": 47,
     "metadata": {},
     "output_type": "execute_result"
    }
   ],
   "source": [
    "def f_get_threshold(df_roc,value,metric='fpr'):\n",
    "    \n",
    "    assert metric in ['fpr','tpr','mdr'], \"metric not any of fpr,tpr, mdr\"\n",
    "\n",
    "    if metric=='fpr':\n",
    "        df=df_roc[df_roc[metric]<value].sort_values(by=metric,ascending=False)\n",
    "        print(\"For %s < %s, threshold < %s \"%(metric,value,df.loc[df[metric].idxmax()].threshold))\n",
    "\n",
    "    if metric=='mdr':\n",
    "        df=df_roc[df_roc[metric]<value].sort_values(by=metric,ascending=False)\n",
    "        print(\"For %s < %s, threshold > %s \"%(metric,value,df.loc[df[metric].idxmax()].threshold))\n",
    "\n",
    "    if metric=='tpr':\n",
    "        df=df_roc[df_roc[metric]>value].sort_values(by=metric,ascending=True)\n",
    "        print(\"For %s > %s, threshold > %s \"%(metric,value,df.loc[df[metric].idxmin()].threshold))\n",
    "\n",
    "#     print(df.loc[df[metric].idxmax()].threshold)\n",
    "\n",
    "    display(df)\n",
    "    return df\n",
    "\n",
    "print(\"Threshold definition: Value > threshold is defined as 1, which is False (Non-artifact)\")\n",
    "f_get_threshold(df_roc,0.01,'fpr')\n",
    "f_get_threshold(df_roc,0.02,'mdr')\n",
    "# f_get_threshold(df_roc,0.99,'tpr')"
   ]
  },
  {
   "cell_type": "code",
   "execution_count": 48,
   "metadata": {},
   "outputs": [
    {
     "name": "stdout",
     "output_type": "stream",
     "text": [
      "For mdr < 0.02, threshold > 0.3853110671043396 \n"
     ]
    },
    {
     "data": {
      "text/html": [
       "<div>\n",
       "<style scoped>\n",
       "    .dataframe tbody tr th:only-of-type {\n",
       "        vertical-align: middle;\n",
       "    }\n",
       "\n",
       "    .dataframe tbody tr th {\n",
       "        vertical-align: top;\n",
       "    }\n",
       "\n",
       "    .dataframe thead th {\n",
       "        text-align: right;\n",
       "    }\n",
       "</style>\n",
       "<table border=\"1\" class=\"dataframe\">\n",
       "  <thead>\n",
       "    <tr style=\"text-align: right;\">\n",
       "      <th></th>\n",
       "      <th>threshold</th>\n",
       "      <th>fpr</th>\n",
       "      <th>tpr</th>\n",
       "      <th>mdr</th>\n",
       "    </tr>\n",
       "  </thead>\n",
       "  <tbody>\n",
       "    <tr>\n",
       "      <th>4073</th>\n",
       "      <td>0.385311</td>\n",
       "      <td>0.012072</td>\n",
       "      <td>0.980136</td>\n",
       "      <td>0.019864</td>\n",
       "    </tr>\n",
       "    <tr>\n",
       "      <th>4072</th>\n",
       "      <td>0.385487</td>\n",
       "      <td>0.012172</td>\n",
       "      <td>0.980136</td>\n",
       "      <td>0.019864</td>\n",
       "    </tr>\n",
       "    <tr>\n",
       "      <th>4071</th>\n",
       "      <td>0.388076</td>\n",
       "      <td>0.012172</td>\n",
       "      <td>0.980285</td>\n",
       "      <td>0.019715</td>\n",
       "    </tr>\n",
       "    <tr>\n",
       "      <th>4070</th>\n",
       "      <td>0.388691</td>\n",
       "      <td>0.012222</td>\n",
       "      <td>0.980285</td>\n",
       "      <td>0.019715</td>\n",
       "    </tr>\n",
       "    <tr>\n",
       "      <th>4069</th>\n",
       "      <td>0.389375</td>\n",
       "      <td>0.012222</td>\n",
       "      <td>0.980435</td>\n",
       "      <td>0.019565</td>\n",
       "    </tr>\n",
       "    <tr>\n",
       "      <th>...</th>\n",
       "      <td>...</td>\n",
       "      <td>...</td>\n",
       "      <td>...</td>\n",
       "      <td>...</td>\n",
       "    </tr>\n",
       "    <tr>\n",
       "      <th>1363</th>\n",
       "      <td>0.999881</td>\n",
       "      <td>0.662242</td>\n",
       "      <td>1.000000</td>\n",
       "      <td>0.000000</td>\n",
       "    </tr>\n",
       "    <tr>\n",
       "      <th>1364</th>\n",
       "      <td>0.999881</td>\n",
       "      <td>0.662042</td>\n",
       "      <td>1.000000</td>\n",
       "      <td>0.000000</td>\n",
       "    </tr>\n",
       "    <tr>\n",
       "      <th>1365</th>\n",
       "      <td>0.999881</td>\n",
       "      <td>0.661992</td>\n",
       "      <td>1.000000</td>\n",
       "      <td>0.000000</td>\n",
       "    </tr>\n",
       "    <tr>\n",
       "      <th>1366</th>\n",
       "      <td>0.999880</td>\n",
       "      <td>0.661891</td>\n",
       "      <td>1.000000</td>\n",
       "      <td>0.000000</td>\n",
       "    </tr>\n",
       "    <tr>\n",
       "      <th>2037</th>\n",
       "      <td>0.999749</td>\n",
       "      <td>0.570777</td>\n",
       "      <td>1.000000</td>\n",
       "      <td>0.000000</td>\n",
       "    </tr>\n",
       "  </tbody>\n",
       "</table>\n",
       "<p>4074 rows × 4 columns</p>\n",
       "</div>"
      ],
      "text/plain": [
       "      threshold       fpr       tpr       mdr\n",
       "4073   0.385311  0.012072  0.980136  0.019864\n",
       "4072   0.385487  0.012172  0.980136  0.019864\n",
       "4071   0.388076  0.012172  0.980285  0.019715\n",
       "4070   0.388691  0.012222  0.980285  0.019715\n",
       "4069   0.389375  0.012222  0.980435  0.019565\n",
       "...         ...       ...       ...       ...\n",
       "1363   0.999881  0.662242  1.000000  0.000000\n",
       "1364   0.999881  0.662042  1.000000  0.000000\n",
       "1365   0.999881  0.661992  1.000000  0.000000\n",
       "1366   0.999880  0.661891  1.000000  0.000000\n",
       "2037   0.999749  0.570777  1.000000  0.000000\n",
       "\n",
       "[4074 rows x 4 columns]"
      ]
     },
     "metadata": {},
     "output_type": "display_data"
    },
    {
     "data": {
      "text/html": [
       "<div>\n",
       "<style scoped>\n",
       "    .dataframe tbody tr th:only-of-type {\n",
       "        vertical-align: middle;\n",
       "    }\n",
       "\n",
       "    .dataframe tbody tr th {\n",
       "        vertical-align: top;\n",
       "    }\n",
       "\n",
       "    .dataframe thead th {\n",
       "        text-align: right;\n",
       "    }\n",
       "</style>\n",
       "<table border=\"1\" class=\"dataframe\">\n",
       "  <thead>\n",
       "    <tr style=\"text-align: right;\">\n",
       "      <th></th>\n",
       "      <th>threshold</th>\n",
       "      <th>fpr</th>\n",
       "      <th>tpr</th>\n",
       "      <th>mdr</th>\n",
       "    </tr>\n",
       "  </thead>\n",
       "  <tbody>\n",
       "    <tr>\n",
       "      <th>4073</th>\n",
       "      <td>0.385311</td>\n",
       "      <td>0.012072</td>\n",
       "      <td>0.980136</td>\n",
       "      <td>0.019864</td>\n",
       "    </tr>\n",
       "  </tbody>\n",
       "</table>\n",
       "</div>"
      ],
      "text/plain": [
       "      threshold       fpr       tpr       mdr\n",
       "4073   0.385311  0.012072  0.980136  0.019864"
      ]
     },
     "execution_count": 48,
     "metadata": {},
     "output_type": "execute_result"
    }
   ],
   "source": [
    "# f_get_threshold(df_roc,0.01,'fpr')\n",
    "f_get_threshold(df_roc,0.02,'mdr').head(1)\n",
    "# f_get_threshold(df_roc,0.99,'tpr')"
   ]
  },
  {
   "cell_type": "code",
   "execution_count": 35,
   "metadata": {},
   "outputs": [],
   "source": [
    "# fname='/global/cfs/cdirs/dasrepo/vpa/supernova_cnn/data/gathered_data/input_npy_files/full_x.npy'\n",
    "# a1=np.load(fname)\n",
    "# fname='/global/cfs/cdirs/dasrepo/vpa/supernova_cnn/data/gathered_data/input_npy_files/full_y.npy'\n",
    "# a2=np.load(fname)\n",
    "\n",
    "# data_size=a1.shape[0]\n",
    "# print(data_size)\n",
    "# idxs=np.random.randint(0,data_size,size=40000)"
   ]
  },
  {
   "cell_type": "code",
   "execution_count": 46,
   "metadata": {},
   "outputs": [],
   "source": [
    "# print(a1[idxs].shape,a2[idxs].shape)\n",
    "# main_dir='/global/cfs/cdirs/dasrepo/vpa/supernova_cnn/data/results_data/results/final_summary_data_folder/sample_test_data/full_test_data/'\n",
    "# np.save(main_dir+'input_x.npy',a1[idxs])\n",
    "# np.savetxt(main_dir+'input_labels_y.txt',a2[idxs])"
   ]
  },
  {
   "cell_type": "code",
   "execution_count": 45,
   "metadata": {},
   "outputs": [],
   "source": [
    "# np.load(main_dir+'input_x.npy')"
   ]
  },
  {
   "cell_type": "code",
   "execution_count": null,
   "metadata": {},
   "outputs": [],
   "source": []
  }
 ],
 "metadata": {
  "kernelspec": {
   "display_name": "v3",
   "language": "python",
   "name": "v-jpt-3"
  },
  "language_info": {
   "codemirror_mode": {
    "name": "ipython",
    "version": 3
   },
   "file_extension": ".py",
   "mimetype": "text/x-python",
   "name": "python",
   "nbconvert_exporter": "python",
   "pygments_lexer": "ipython3",
   "version": "3.8.6"
  },
  "toc": {
   "base_numbering": 1,
   "nav_menu": {},
   "number_sections": true,
   "sideBar": true,
   "skip_h1_title": false,
   "title_cell": "Table of Contents",
   "title_sidebar": "Contents",
   "toc_cell": false,
   "toc_position": {},
   "toc_section_display": true,
   "toc_window_display": false
  },
  "toc-autonumbering": true,
  "toc-showmarkdowntxt": false
 },
 "nbformat": 4,
 "nbformat_minor": 4
}
